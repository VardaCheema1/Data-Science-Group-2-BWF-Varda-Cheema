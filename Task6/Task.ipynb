{
 "cells": [
  {
   "cell_type": "markdown",
   "id": "f656887c-3d72-4765-91fc-c30bbe0697da",
   "metadata": {},
   "source": [
    "# Task 6: File and Exception Handling"
   ]
  },
  {
   "cell_type": "code",
   "execution_count": 4,
   "id": "bff626b4-0858-4686-98ee-008308ba180f",
   "metadata": {},
   "outputs": [
    {
     "name": "stdout",
     "output_type": "stream",
     "text": [
      "File already exists. No action needed.\n",
      "Student Record\n",
      "1. Load Student Data\n",
      "2. Add Student\n",
      "3. Search Student\n",
      "4. Delete Student\n",
      "5. Exit\n"
     ]
    },
    {
     "name": "stdin",
     "output_type": "stream",
     "text": [
      "Enter choice:  1\n"
     ]
    },
    {
     "name": "stdout",
     "output_type": "stream",
     "text": [
      "ID:  1 Name:  Brian Adler Age:  17 Grade:  11\n",
      "ID:  2 Name:  Margeret Fox Age:  20 Grade:  12\n",
      "ID:  4 Name:  Melissa Owen Age:  16 Grade:  10\n",
      "Student Record\n",
      "1. Load Student Data\n",
      "2. Add Student\n",
      "3. Search Student\n",
      "4. Delete Student\n",
      "5. Exit\n"
     ]
    },
    {
     "name": "stdin",
     "output_type": "stream",
     "text": [
      "Enter choice:  2\n",
      "Enter Student ID to add:  3\n",
      "Enter Student name:  Martha Riddler\n",
      "Enter Student age:  13\n",
      "Enter Student grade:  8\n"
     ]
    },
    {
     "name": "stdout",
     "output_type": "stream",
     "text": [
      "Student Record\n",
      "1. Load Student Data\n",
      "2. Add Student\n",
      "3. Search Student\n",
      "4. Delete Student\n",
      "5. Exit\n"
     ]
    },
    {
     "name": "stdin",
     "output_type": "stream",
     "text": [
      "Enter choice:  3\n",
      "Enter Student ID to search:  4\n"
     ]
    },
    {
     "name": "stdout",
     "output_type": "stream",
     "text": [
      "Name:  Melissa Owen\n",
      "Age:  16\n",
      "Grade:  10\n",
      "Student Record\n",
      "1. Load Student Data\n",
      "2. Add Student\n",
      "3. Search Student\n",
      "4. Delete Student\n",
      "5. Exit\n"
     ]
    },
    {
     "name": "stdin",
     "output_type": "stream",
     "text": [
      "Enter choice:  4\n",
      "Enter student ID to delete:  4\n"
     ]
    },
    {
     "name": "stdout",
     "output_type": "stream",
     "text": [
      "Student deleted successfully.\n",
      "Student Record\n",
      "1. Load Student Data\n",
      "2. Add Student\n",
      "3. Search Student\n",
      "4. Delete Student\n",
      "5. Exit\n"
     ]
    },
    {
     "name": "stdin",
     "output_type": "stream",
     "text": [
      "Enter choice:  1\n"
     ]
    },
    {
     "name": "stdout",
     "output_type": "stream",
     "text": [
      "ID:  1 Name:  Brian Adler Age:  17 Grade:  11\n",
      "ID:  2 Name:  Margeret Fox Age:  20 Grade:  12\n",
      "ID:  3 Name:  Martha Riddler Age:  13 Grade:  8\n",
      "Student Record\n",
      "1. Load Student Data\n",
      "2. Add Student\n",
      "3. Search Student\n",
      "4. Delete Student\n",
      "5. Exit\n"
     ]
    },
    {
     "name": "stdin",
     "output_type": "stream",
     "text": [
      "Enter choice:  5\n"
     ]
    }
   ],
   "source": [
    "import os\n",
    "\n",
    "def createFile():\n",
    "    try:\n",
    "        file = open(\"students.txt\", \"x\")\n",
    "        file.close()\n",
    "        print(\"File created successfully.\")\n",
    "    except FileExistsError:\n",
    "        print(\"File already exists. No action needed.\")\n",
    "\n",
    "\n",
    "def load_students():\n",
    "    with open('students.txt', mode='r') as file:\n",
    "        return [line.strip().split(',') for line in file]\n",
    "\n",
    "def StudentData():\n",
    "    students = load_students()\n",
    "\n",
    "    if not students:\n",
    "        print(\"No students available.\")\n",
    "        return\n",
    "\n",
    "    for student in students:\n",
    "        print(\"ID: \", student[0], \"Name: \", student[1], \"Age: \", student[2], \"Grade: \", student[3])\n",
    "\n",
    "def AddStudent():\n",
    "    ID = input(\"Enter Student ID to add: \")\n",
    "    students = load_students()\n",
    "\n",
    "    for student in students:\n",
    "        if student[0] == ID:\n",
    "            print(\"Student already exists \")\n",
    "            return\n",
    "\n",
    "    name = input(\"Enter Student name: \")\n",
    "    age = input(\"Enter Student age: \")\n",
    "    grade = input(\"Enter Student grade: \")\n",
    "\n",
    "    students.append([ID, name, age, grade])\n",
    "\n",
    "    with open('students.txt', mode='w') as file:\n",
    "        for student in students:\n",
    "            file.write(','.join(student) + '\\n')\n",
    "    \n",
    "\n",
    "def SearchStudent():\n",
    "    students = load_students()\n",
    "    ID = input(\"Enter Student ID to search: \")\n",
    "\n",
    "    for student in students:\n",
    "        if student[0] == ID:\n",
    "            print(\"Name: \", student[1])\n",
    "            print(\"Age: \", student[2])\n",
    "            print(\"Grade: \", student[3])\n",
    "            return\n",
    "            \n",
    "    print(\"Student not found \")\n",
    "\n",
    "\n",
    "def DeleteStudent():\n",
    "    students = load_students()\n",
    "    student_id = input(\"Enter student ID to delete: \")\n",
    "\n",
    "    student_found = False\n",
    "    updated_students = []\n",
    "\n",
    "    for student in students:\n",
    "        if student[0] == student_id:\n",
    "            student_found = True\n",
    "        else:\n",
    "            updated_students.append(student)\n",
    "\n",
    "    if student_found:\n",
    "        with open('students.txt', mode='w') as file:\n",
    "            for student in updated_students:\n",
    "                file.write(','.join(student) + '\\n')\n",
    "            print(\"Student deleted successfully.\")\n",
    "    else:\n",
    "        print(\"Error: Student ID not found.\")\n",
    "\n",
    "createFile()\n",
    "\n",
    "choice = 0\n",
    "\n",
    "while choice != 5:\n",
    "    print(\"Student Record\")\n",
    "    print(\"1. Load Student Data\")\n",
    "    print(\"2. Add Student\")\n",
    "    print(\"3. Search Student\")\n",
    "    print(\"4. Delete Student\")\n",
    "    print(\"5. Exit\")\n",
    "\n",
    "    choice = input(\"Enter choice: \")\n",
    "\n",
    "    if choice == '1':\n",
    "        StudentData()\n",
    "    elif choice == '2':\n",
    "        AddStudent()\n",
    "    elif choice == '3':\n",
    "        SearchStudent()\n",
    "    elif choice == '4':\n",
    "        DeleteStudent()\n",
    "    elif choice == '5':\n",
    "        break\n",
    "    else:\n",
    "        print(\"Number invalid. Please choose the correct number \")\n",
    "    "
   ]
  },
  {
   "cell_type": "code",
   "execution_count": null,
   "id": "f2cc87e8-0142-4f27-9cc2-c4cd9a18d0ff",
   "metadata": {},
   "outputs": [],
   "source": []
  }
 ],
 "metadata": {
  "kernelspec": {
   "display_name": "Python 3 (ipykernel)",
   "language": "python",
   "name": "python3"
  },
  "language_info": {
   "codemirror_mode": {
    "name": "ipython",
    "version": 3
   },
   "file_extension": ".py",
   "mimetype": "text/x-python",
   "name": "python",
   "nbconvert_exporter": "python",
   "pygments_lexer": "ipython3",
   "version": "3.11.5"
  }
 },
 "nbformat": 4,
 "nbformat_minor": 5
}
