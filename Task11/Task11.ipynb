{
 "cells": [
  {
   "cell_type": "markdown",
   "id": "8b9a54ea-6fb0-4c34-92c7-9bbfe8dfba20",
   "metadata": {},
   "source": [
    "# Task 11\n",
    "## Indexing and Slicing"
   ]
  },
  {
   "cell_type": "code",
   "execution_count": 4,
   "id": "33a44745-0411-4191-b493-85a71b8d8d94",
   "metadata": {},
   "outputs": [
    {
     "name": "stdout",
     "output_type": "stream",
     "text": [
      "[[1 2]\n",
      " [4 5]]\n"
     ]
    }
   ],
   "source": [
    "import numpy as np\n",
    "\n",
    "n = np.array([[1,2,3,4,5,6],[4,5,6,7,8,9],[7,8,9,4,3,2],[3,13,6,9,12,1],[3,24,5,12,20,7],[2,3,7,21,18,23]])\n",
    "print(n[0:2, 0:2])\n"
   ]
  },
  {
   "cell_type": "code",
   "execution_count": 5,
   "id": "67cd8c95-8cde-49f6-91b7-c925bd39bab8",
   "metadata": {},
   "outputs": [
    {
     "name": "stdout",
     "output_type": "stream",
     "text": [
      "[[1 4]\n",
      " [2 5]]\n"
     ]
    }
   ],
   "source": [
    "n1 = np.array([[[1], [4]], [[2], [5]], [[3], [7]]])\n",
    "print(n1[:2, :, 0])"
   ]
  },
  {
   "cell_type": "code",
   "execution_count": 6,
   "id": "5442e04b-4ae9-4781-925a-ea2c2b7e6e93",
   "metadata": {},
   "outputs": [
    {
     "name": "stdout",
     "output_type": "stream",
     "text": [
      "[2 4 5 9]\n"
     ]
    }
   ],
   "source": [
    "n2 = np.array((1,2,3,4,5,7,9))\n",
    "ind = [1,3,4,6]\n",
    "print(n2[ind])"
   ]
  },
  {
   "cell_type": "code",
   "execution_count": 7,
   "id": "721b7331-c7db-47a9-bd2e-637af33590f4",
   "metadata": {},
   "outputs": [
    {
     "name": "stdout",
     "output_type": "stream",
     "text": [
      "[5 9]\n"
     ]
    }
   ],
   "source": [
    "n3 = np.array([[3,5,7,2],[4,16,20,11],[17,6,8,9], [4,5,6,1]])\n",
    "rows = [0,2]\n",
    "cols = [1,3]\n",
    "print(n3[rows, cols])"
   ]
  },
  {
   "cell_type": "code",
   "execution_count": 8,
   "id": "8f50422b-3178-4054-8cbc-483895dbf4b9",
   "metadata": {},
   "outputs": [
    {
     "name": "stdout",
     "output_type": "stream",
     "text": [
      "[ 9 28 20]\n"
     ]
    }
   ],
   "source": [
    "n4 = np.array((1,2,3,4,5,7,9, 2,28,20)) \n",
    "print(n4[n4>8])"
   ]
  },
  {
   "cell_type": "code",
   "execution_count": 9,
   "id": "8d540a9d-5d8a-4619-8db4-8eea9b064de8",
   "metadata": {},
   "outputs": [
    {
     "name": "stdout",
     "output_type": "stream",
     "text": [
      "[[ 1  2  3  0  5  0]\n",
      " [ 4  5  6  7  8  9]\n",
      " [ 7  8  9  4  3  2]\n",
      " [ 3 13  6  9 12  1]\n",
      " [ 3  0  5 12  0  7]\n",
      " [ 2  3  7  0  0  0]]\n"
     ]
    }
   ],
   "source": [
    "n5 = np.array([[1,2,3,14,5,16],[4,5,6,7,8,9],[7,8,9,4,3,2],[3,13,6,9,12,1],[3,24,5,12,20,7],[2,3,7,21,18,23]])\n",
    "n5[n5>13] = 0\n",
    "print(n5)"
   ]
  },
  {
   "cell_type": "markdown",
   "id": "be333b39-ade3-4c99-ad0e-0f2c1a78f4f4",
   "metadata": {},
   "source": [
    "## Broadcasting "
   ]
  },
  {
   "cell_type": "code",
   "execution_count": 10,
   "id": "ddfd0461-af40-4856-8055-fbacffb6380d",
   "metadata": {},
   "outputs": [
    {
     "name": "stdout",
     "output_type": "stream",
     "text": [
      "[[ 2  4  6]\n",
      " [ 5  7  9]\n",
      " [ 8 10 12]]\n"
     ]
    }
   ],
   "source": [
    "n = np.array((1,2,3))\n",
    "n1 = np.array([[1,2,3],[4,5,6],[7,8,9]])\n",
    "print(n +n1)"
   ]
  },
  {
   "cell_type": "code",
   "execution_count": 11,
   "id": "80df0a5b-6051-44de-9b2b-4e3d83c350c8",
   "metadata": {},
   "outputs": [
    {
     "name": "stdout",
     "output_type": "stream",
     "text": [
      "[[ 1  4  9]\n",
      " [ 4 10 18]\n",
      " [ 7 16 27]]\n"
     ]
    }
   ],
   "source": [
    "n = np.array((1,2,3))\n",
    "n1 = np.array([[1,2,3],[4,5,6],[7,8,9]])\n",
    "print(n*n1)"
   ]
  },
  {
   "cell_type": "code",
   "execution_count": 12,
   "id": "e097f6f0-e76a-43a6-b443-7048d0d07832",
   "metadata": {},
   "outputs": [
    {
     "name": "stdout",
     "output_type": "stream",
     "text": [
      "[[ 2  5  8  3]\n",
      " [ 5  8 11  6]\n",
      " [ 8 11 14  9]]\n"
     ]
    }
   ],
   "source": [
    "n = np.array([[1],[4],[7]])\n",
    "n1 = np.array([[1,4,7,2]])\n",
    "print(n+n1)"
   ]
  },
  {
   "cell_type": "code",
   "execution_count": 13,
   "id": "d179a7d5-3cfc-4b01-8152-0457bedf4ad6",
   "metadata": {},
   "outputs": [
    {
     "name": "stdout",
     "output_type": "stream",
     "text": [
      "[[[ 2  4  4  8]\n",
      "  [14 14 12  9]\n",
      "  [19 21 17 14]]\n",
      "\n",
      " [[14 16 16 20]\n",
      "  [26 26 24 21]\n",
      "  [31 33 29 26]]]\n"
     ]
    }
   ],
   "source": [
    "array = np.array([[[1, 2, 3, 4],\n",
    "                      [5, 6, 7, 8],\n",
    "                      [9, 10, 11, 12]],\n",
    "                     \n",
    "                     [[13, 14, 15, 16],\n",
    "                      [17, 18, 19, 20],\n",
    "                      [21, 22, 23, 24]]])\n",
    "\n",
    "\n",
    "array1 = np.array([[1, 2, 1, 4],\n",
    "                     [9, 8, 5, 1],\n",
    "                     [10, 11, 6, 2]])\n",
    "\n",
    "print(array+array1)"
   ]
  },
  {
   "cell_type": "code",
   "execution_count": null,
   "id": "87d384cc-813c-4231-934d-1cd708f637bd",
   "metadata": {},
   "outputs": [],
   "source": []
  }
 ],
 "metadata": {
  "kernelspec": {
   "display_name": "Python 3 (ipykernel)",
   "language": "python",
   "name": "python3"
  },
  "language_info": {
   "codemirror_mode": {
    "name": "ipython",
    "version": 3
   },
   "file_extension": ".py",
   "mimetype": "text/x-python",
   "name": "python",
   "nbconvert_exporter": "python",
   "pygments_lexer": "ipython3",
   "version": "3.11.5"
  }
 },
 "nbformat": 4,
 "nbformat_minor": 5
}
