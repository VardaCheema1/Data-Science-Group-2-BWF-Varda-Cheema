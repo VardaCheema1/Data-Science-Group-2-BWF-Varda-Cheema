{
 "cells": [
  {
   "cell_type": "markdown",
   "id": "16d99fcd-d149-41e4-99c0-ae14523825c0",
   "metadata": {},
   "source": [
    "# Mini project 1"
   ]
  },
  {
   "cell_type": "code",
   "execution_count": null,
   "id": "01cba79c-6fa2-4374-b041-b176e30b1cd2",
   "metadata": {},
   "outputs": [],
   "source": [
    "import pandas as pd\n",
    "import matplotlib.pyplot as plt\n",
    "\n",
    "\n",
    "file_path = 'university_enrollment_(Mini-project-01).csv'\n",
    "data = pd.read_csv(file_path)\n",
    "\n",
    "#fiiling missing values in columns\n",
    "data['post_score'].fillna(data['post_score'].median(), inplace=True)\n",
    "data['pre_requirement'].fillna('None', inplace=True)\n",
    "\n",
    "#general descriptive stats\n",
    "numerical_summary = data.describe()\n",
    "categorical_counts = data[['course_type', 'pre_requirement', 'department']].value_counts()\n",
    "print(\"Numerical Summary:\\n\", numerical_summary)\n",
    "print(\"\\nCategorical Counts:\\n\", categorical_counts)\n",
    "\n",
    "# Visualizations\n",
    "enrollment_trends = data.groupby('year')['enrollment_count'].sum()\n",
    "plt.figure(figsize=(10, 6))\n",
    "enrollment_trends.plot(kind='line', marker='o')\n",
    "plt.title('Total Enrollment Over Years')\n",
    "plt.xlabel('Year')\n",
    "plt.ylabel('Enrollment Count')\n",
    "plt.grid(True)\n",
    "plt.show()\n",
    "\n",
    "enrollment_by_course_type = data.groupby('course_type')['enrollment_count'].sum()\n",
    "plt.figure(figsize=(8, 6))\n",
    "enrollment_by_course_type.plot(kind='bar', color=['blue', 'green'])\n",
    "plt.title('Total Enrollment by Course Type')\n",
    "plt.xlabel('Course Type')\n",
    "plt.ylabel('Enrollment Count')\n",
    "plt.show()\n",
    "\n",
    "enrollment_by_department = data.groupby('department')['enrollment_count'].sum()\n",
    "plt.figure(figsize=(10, 6))\n",
    "enrollment_by_department.plot(kind='bar', color='purple')\n",
    "plt.title('Total Enrollment by Department')\n",
    "plt.xlabel('Department')\n",
    "plt.ylabel('Enrollment Count')\n",
    "plt.show()\n",
    "\n",
    "enrollment_by_pre_requirement = data.groupby('pre_requirement')['enrollment_count'].sum()\n",
    "plt.figure(figsize=(10, 6))\n",
    "enrollment_by_pre_requirement.plot(kind='bar', color='orange')\n",
    "plt.title('Total Enrollment by Pre-Requirement')\n",
    "plt.xlabel('Pre-Requirement')\n",
    "plt.ylabel('Enrollment Count')\n",
    "plt.show()\n",
    "\n",
    "# Group Comparisons\n",
    "average_enrollment_by_course_type = data.groupby('course_type')['enrollment_count'].mean()\n",
    "average_enrollment_by_department = data.groupby('department')['enrollment_count'].mean()\n",
    "average_enrollment_by_pre_requirement = data.groupby('pre_requirement')['enrollment_count'].mean()\n",
    "print(\"\\nAverage Enrollment by Course Type:\\n\", average_enrollment_by_course_type)\n",
    "print(\"\\nAverage Enrollment by Department:\\n\", average_enrollment_by_department)\n",
    "print(\"\\nAverage Enrollment by Pre-Requirement:\\n\", average_enrollment_by_pre_requirement)\n",
    "\n",
    "#correlation matrix\n",
    "data['course_type_num'] = data['course_type'].apply(lambda x: 1 if x == 'online' else 0)\n",
    "data['pre_requirement_num'] = data['pre_requirement'].astype('category').cat.codes\n",
    "data['department_num'] = data['department'].astype('category').cat.codes\n",
    "numerical_data = data[['enrollment_count', 'post_score', 'year', 'course_type_num', 'pre_requirement_num', 'department_num']]\n",
    "correlation_matrix = numerical_data.corr()\n",
    "print(\"\\nCorrelation Matrix:\\n\", correlation_matrix['enrollment_count'].sort_values(ascending=False))"
   ]
  }
 ],
 "metadata": {
  "kernelspec": {
   "display_name": "Python 3 (ipykernel)",
   "language": "python",
   "name": "python3"
  },
  "language_info": {
   "codemirror_mode": {
    "name": "ipython",
    "version": 3
   },
   "file_extension": ".py",
   "mimetype": "text/x-python",
   "name": "python",
   "nbconvert_exporter": "python",
   "pygments_lexer": "ipython3",
   "version": "3.11.5"
  }
 },
 "nbformat": 4,
 "nbformat_minor": 5
}
