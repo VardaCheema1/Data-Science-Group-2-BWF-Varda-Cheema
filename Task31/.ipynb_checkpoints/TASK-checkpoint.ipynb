{
 "cells": [
  {
   "cell_type": "code",
   "execution_count": 1,
   "id": "a0c7c1c7-7d35-4060-98ac-09c0abd1f996",
   "metadata": {},
   "outputs": [
    {
     "name": "stdout",
     "output_type": "stream",
     "text": [
      "PCA Accuracy: 0.5314814814814814\n",
      "LDA Accuracy: 0.7148148148148148\n"
     ]
    },
    {
     "name": "stderr",
     "output_type": "stream",
     "text": [
      "/Library/Frameworks/Python.framework/Versions/3.11/lib/python3.11/site-packages/sklearn/linear_model/_logistic.py:469: ConvergenceWarning: lbfgs failed to converge (status=1):\n",
      "STOP: TOTAL NO. of ITERATIONS REACHED LIMIT.\n",
      "\n",
      "Increase the number of iterations (max_iter) or scale the data as shown in:\n",
      "    https://scikit-learn.org/stable/modules/preprocessing.html\n",
      "Please also refer to the documentation for alternative solver options:\n",
      "    https://scikit-learn.org/stable/modules/linear_model.html#logistic-regression\n",
      "  n_iter_i = _check_optimize_result(\n",
      "/Library/Frameworks/Python.framework/Versions/3.11/lib/python3.11/site-packages/sklearn/feature_selection/_univariate_selection.py:112: UserWarning: Features [ 0 32 39] are constant.\n",
      "  warnings.warn(\"Features %s are constant.\" % constant_features_idx, UserWarning)\n",
      "/Library/Frameworks/Python.framework/Versions/3.11/lib/python3.11/site-packages/sklearn/feature_selection/_univariate_selection.py:113: RuntimeWarning: invalid value encountered in divide\n",
      "  f = msb / msw\n"
     ]
    },
    {
     "name": "stdout",
     "output_type": "stream",
     "text": [
      "t-SNE Accuracy: 0.040740740740740744\n",
      "SelectKBest Accuracy: 0.9351851851851852\n",
      "RFE Accuracy: 0.9388888888888889\n"
     ]
    }
   ],
   "source": [
    "import numpy as np\n",
    "import pandas as pd\n",
    "from sklearn import datasets\n",
    "from sklearn.model_selection import train_test_split\n",
    "from sklearn.preprocessing import StandardScaler\n",
    "from sklearn.decomposition import PCA\n",
    "from sklearn.discriminant_analysis import LinearDiscriminantAnalysis as LDA\n",
    "from sklearn.manifold import TSNE\n",
    "from sklearn.linear_model import LogisticRegression\n",
    "from sklearn.metrics import accuracy_score\n",
    "from sklearn.feature_selection import SelectKBest, f_classif\n",
    "from sklearn.feature_selection import RFE\n",
    "\n",
    "data = datasets.load_digits()\n",
    "X = data.data\n",
    "y = data.target\n",
    "X_train, X_test, y_train, y_test = train_test_split(X, y, test_size=0.3, random_state=42)\n",
    "scaler = StandardScaler()\n",
    "X_train = scaler.fit_transform(X_train)\n",
    "X_test = scaler.transform(X_test)\n",
    "\n",
    "pca = PCA(n_components=2)\n",
    "X_train_pca = pca.fit_transform(X_train)\n",
    "X_test_pca = pca.transform(X_test)\n",
    "log_reg_pca = LogisticRegression(max_iter=200)\n",
    "log_reg_pca.fit(X_train_pca, y_train)\n",
    "y_pred_pca = log_reg_pca.predict(X_test_pca)\n",
    "acc_pca = accuracy_score(y_test, y_pred_pca)\n",
    "print(\"PCA Accuracy:\", acc_pca)\n",
    "\n",
    "lda = LDA(n_components=2)\n",
    "X_train_lda = lda.fit_transform(X_train, y_train)\n",
    "X_test_lda = lda.transform(X_test)\n",
    "log_reg_lda = LogisticRegression(max_iter=200)\n",
    "log_reg_lda.fit(X_train_lda, y_train)\n",
    "y_pred_lda = log_reg_lda.predict(X_test_lda)\n",
    "acc_lda = accuracy_score(y_test, y_pred_lda)\n",
    "print(\"LDA Accuracy:\", acc_lda)\n",
    "\n",
    "tsne = TSNE(n_components=2)\n",
    "X_train_tsne = tsne.fit_transform(X_train)\n",
    "X_test_tsne = tsne.fit_transform(X_test)\n",
    "log_reg_tsne = LogisticRegression(max_iter=200)\n",
    "log_reg_tsne.fit(X_train_tsne, y_train)\n",
    "y_pred_tsne = log_reg_tsne.predict(X_test_tsne)\n",
    "acc_tsne = accuracy_score(y_test, y_pred_tsne)\n",
    "print(\"t-SNE Accuracy:\", acc_tsne)\n",
    "\n",
    "selector = SelectKBest(f_classif, k=20)\n",
    "X_train_kbest = selector.fit_transform(X_train, y_train)\n",
    "X_test_kbest = selector.transform(X_test)\n",
    "log_reg_kbest = LogisticRegression(max_iter=200)\n",
    "log_reg_kbest.fit(X_train_kbest, y_train)\n",
    "y_pred_kbest = log_reg_kbest.predict(X_test_kbest)\n",
    "acc_kbest = accuracy_score(y_test, y_pred_kbest)\n",
    "print(\"SelectKBest Accuracy:\", acc_kbest)\n",
    "\n",
    "log_reg_rfe = LogisticRegression(max_iter=200)\n",
    "rfe = RFE(log_reg_rfe, n_features_to_select=20)\n",
    "X_train_rfe = rfe.fit_transform(X_train, y_train)\n",
    "X_test_rfe = rfe.transform(X_test)\n",
    "log_reg_rfe.fit(X_train_rfe, y_train)\n",
    "y_pred_rfe = log_reg_rfe.predict(X_test_rfe)\n",
    "acc_rfe = accuracy_score(y_test, y_pred_rfe)\n",
    "print(\"RFE Accuracy:\", acc_rfe)\n"
   ]
  },
  {
   "cell_type": "code",
   "execution_count": null,
   "id": "6001e06f-5fc5-44e1-8d43-4edf6192b2ee",
   "metadata": {},
   "outputs": [],
   "source": []
  }
 ],
 "metadata": {
  "kernelspec": {
   "display_name": "Python 3 (ipykernel)",
   "language": "python",
   "name": "python3"
  },
  "language_info": {
   "codemirror_mode": {
    "name": "ipython",
    "version": 3
   },
   "file_extension": ".py",
   "mimetype": "text/x-python",
   "name": "python",
   "nbconvert_exporter": "python",
   "pygments_lexer": "ipython3",
   "version": "3.11.5"
  }
 },
 "nbformat": 4,
 "nbformat_minor": 5
}
