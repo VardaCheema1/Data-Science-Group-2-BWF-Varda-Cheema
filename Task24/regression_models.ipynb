{
 "cells": [
  {
   "cell_type": "markdown",
   "id": "37148b37-c843-4ce7-a09e-cd817b97f434",
   "metadata": {},
   "source": [
    "# Task 24: Regression Models using scikit-learn\n",
    "\n",
    "### Using LinearRegression, Ridge Regression, Random Forest Regression"
   ]
  },
  {
   "cell_type": "code",
   "execution_count": 2,
   "id": "21625701-c227-4187-b1aa-c7e0279457e6",
   "metadata": {},
   "outputs": [
    {
     "name": "stdout",
     "output_type": "stream",
     "text": [
      "Linear Regression\n",
      "MSE: 2900.1936284934827\n",
      "R2 Score: 0.45260276297191926\n",
      "\n",
      "Ridge Regression\n",
      "MSE: 2892.0145657501735\n",
      "R2 Score: 0.45414652070698214\n",
      "\n",
      "Random Forest Regression\n",
      "MSE: 2959.180561797753\n",
      "R2 Score: 0.44146927036843053\n"
     ]
    }
   ],
   "source": [
    "import numpy as np\n",
    "from sklearn.datasets import load_diabetes\n",
    "from sklearn.model_selection import train_test_split\n",
    "from sklearn.preprocessing import StandardScaler\n",
    "from sklearn.linear_model import LinearRegression, Ridge\n",
    "from sklearn.ensemble import RandomForestRegressor\n",
    "from sklearn.metrics import mean_squared_error, r2_score\n",
    "\n",
    "data = load_diabetes()\n",
    "X = data.data\n",
    "y = data.target\n",
    "X_train, X_test, y_train, y_test = train_test_split(X, y, test_size=0.2, random_state=42)\n",
    "\n",
    "scaler = StandardScaler()\n",
    "X_train = scaler.fit_transform(X_train)\n",
    "X_test = scaler.transform(X_test)\n",
    "\n",
    "#Linear\n",
    "lin_reg = LinearRegression()\n",
    "lin_reg.fit(X_train, y_train)\n",
    "y_pred_lin = lin_reg.predict(X_test)\n",
    "\n",
    "#Ridge\n",
    "ridge_reg = Ridge(alpha=1.0)\n",
    "ridge_reg.fit(X_train, y_train)\n",
    "y_pred_ridge = ridge_reg.predict(X_test)\n",
    "\n",
    "#Random Forest\n",
    "rf_reg = RandomForestRegressor(n_estimators=100, random_state=42)\n",
    "rf_reg.fit(X_train, y_train)\n",
    "y_pred_rf = rf_reg.predict(X_test)\n",
    "\n",
    "#Evaluations\n",
    "print(\"Linear Regression\")\n",
    "print(\"MSE:\", mean_squared_error(y_test, y_pred_lin))\n",
    "print(\"R2 Score:\", r2_score(y_test, y_pred_lin))\n",
    "\n",
    "print(\"\\nRidge Regression\")\n",
    "print(\"MSE:\", mean_squared_error(y_test, y_pred_ridge))\n",
    "print(\"R2 Score:\", r2_score(y_test, y_pred_ridge))\n",
    "\n",
    "print(\"\\nRandom Forest Regression\")\n",
    "print(\"MSE:\", mean_squared_error(y_test, y_pred_rf))\n",
    "print(\"R2 Score:\", r2_score(y_test, y_pred_rf))\n"
   ]
  },
  {
   "cell_type": "code",
   "execution_count": null,
   "id": "049ac0b0-ac92-4f20-81b3-70be2277afd2",
   "metadata": {},
   "outputs": [],
   "source": []
  }
 ],
 "metadata": {
  "kernelspec": {
   "display_name": "Python 3 (ipykernel)",
   "language": "python",
   "name": "python3"
  },
  "language_info": {
   "codemirror_mode": {
    "name": "ipython",
    "version": 3
   },
   "file_extension": ".py",
   "mimetype": "text/x-python",
   "name": "python",
   "nbconvert_exporter": "python",
   "pygments_lexer": "ipython3",
   "version": "3.11.5"
  }
 },
 "nbformat": 4,
 "nbformat_minor": 5
}
