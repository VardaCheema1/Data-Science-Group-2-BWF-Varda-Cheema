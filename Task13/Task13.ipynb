{
 "cells": [
  {
   "cell_type": "markdown",
   "id": "2d0e32bd-961d-41d3-85a1-8267c2fd7b53",
   "metadata": {},
   "source": [
    "# Task 13\n",
    "## Pandas"
   ]
  },
  {
   "cell_type": "code",
   "execution_count": 2,
   "id": "e7431e17-6e22-4074-a85f-298cc9aa961f",
   "metadata": {},
   "outputs": [
    {
     "name": "stdout",
     "output_type": "stream",
     "text": [
      "\n",
      "DataFrame loaded from CSV file:\n",
      "      sepal_length  sepal_width  petal_length  petal_width         species\n",
      "0             5.1          3.5           1.4          0.2     Iris-setosa\n",
      "1             4.9          3.0           1.4          0.2     Iris-setosa\n",
      "2             4.7          3.2           1.3          0.2     Iris-setosa\n",
      "3             4.6          3.1           1.5          0.2     Iris-setosa\n",
      "4             5.0          3.6           1.4          0.2     Iris-setosa\n",
      "..            ...          ...           ...          ...             ...\n",
      "145           6.7          3.0           5.2          2.3  Iris-virginica\n",
      "146           6.3          2.5           5.0          1.9  Iris-virginica\n",
      "147           6.5          3.0           5.2          2.0  Iris-virginica\n",
      "148           6.2          3.4           5.4          2.3  Iris-virginica\n",
      "149           5.9          3.0           5.1          1.8  Iris-virginica\n",
      "\n",
      "[150 rows x 5 columns]\n",
      "\n",
      "First five rows:\n",
      "    sepal_length  sepal_width  petal_length  petal_width      species\n",
      "0           5.1          3.5           1.4          0.2  Iris-setosa\n",
      "1           4.9          3.0           1.4          0.2  Iris-setosa\n",
      "2           4.7          3.2           1.3          0.2  Iris-setosa\n",
      "3           4.6          3.1           1.5          0.2  Iris-setosa\n",
      "4           5.0          3.6           1.4          0.2  Iris-setosa\n",
      "\n",
      "Last five rows:\n",
      "      sepal_length  sepal_width  petal_length  petal_width         species\n",
      "145           6.7          3.0           5.2          2.3  Iris-virginica\n",
      "146           6.3          2.5           5.0          1.9  Iris-virginica\n",
      "147           6.5          3.0           5.2          2.0  Iris-virginica\n",
      "148           6.2          3.4           5.4          2.3  Iris-virginica\n",
      "149           5.9          3.0           5.1          1.8  Iris-virginica\n"
     ]
    }
   ],
   "source": [
    "import pandas as pd \n",
    "\n",
    "df = pd.read_csv('iris.csv')\n",
    "print(\"\\nDataFrame loaded from CSV file:\\n\", df)\n",
    "print(\"\\nFirst five rows:\\n\", df.head())\n",
    "print(\"\\nLast five rows:\\n\", df.tail())"
   ]
  },
  {
   "cell_type": "code",
   "execution_count": 3,
   "id": "d001beb0-9f35-4eed-aec2-3c5a5313d66f",
   "metadata": {},
   "outputs": [
    {
     "name": "stdout",
     "output_type": "stream",
     "text": [
      "                sepal_length  sepal_width  petal_length  petal_width\n",
      "species                                                             \n",
      "Iris-setosa              5.1          3.5           1.4          0.2\n",
      "Iris-setosa              4.9          3.0           1.4          0.2\n",
      "Iris-setosa              4.7          3.2           1.3          0.2\n",
      "Iris-setosa              4.6          3.1           1.5          0.2\n",
      "Iris-setosa              5.0          3.6           1.4          0.2\n",
      "...                      ...          ...           ...          ...\n",
      "Iris-virginica           6.7          3.0           5.2          2.3\n",
      "Iris-virginica           6.3          2.5           5.0          1.9\n",
      "Iris-virginica           6.5          3.0           5.2          2.0\n",
      "Iris-virginica           6.2          3.4           5.4          2.3\n",
      "Iris-virginica           5.9          3.0           5.1          1.8\n",
      "\n",
      "[150 rows x 4 columns]\n"
     ]
    }
   ],
   "source": [
    "df.set_index('species', inplace=True)\n",
    "print(df)"
   ]
  },
  {
   "cell_type": "code",
   "execution_count": 4,
   "id": "a96aa01c-a2b5-4e60-b225-8c8fe7e205ee",
   "metadata": {},
   "outputs": [
    {
     "name": "stdout",
     "output_type": "stream",
     "text": [
      "species\n",
      "Iris-setosa       3.5\n",
      "Iris-setosa       3.0\n",
      "Iris-setosa       3.2\n",
      "Iris-setosa       3.1\n",
      "Iris-setosa       3.6\n",
      "                 ... \n",
      "Iris-virginica    3.0\n",
      "Iris-virginica    2.5\n",
      "Iris-virginica    3.0\n",
      "Iris-virginica    3.4\n",
      "Iris-virginica    3.0\n",
      "Name: sepal_width, Length: 150, dtype: float64\n"
     ]
    }
   ],
   "source": [
    "print(df['sepal_width'])"
   ]
  },
  {
   "cell_type": "code",
   "execution_count": 5,
   "id": "8af6ad82-0126-47ac-b3d6-c001278138fe",
   "metadata": {},
   "outputs": [
    {
     "name": "stdout",
     "output_type": "stream",
     "text": [
      "                sepal_width  sepal_length\n",
      "species                                  \n",
      "Iris-setosa             3.5           5.1\n",
      "Iris-setosa             3.0           4.9\n",
      "Iris-setosa             3.2           4.7\n",
      "Iris-setosa             3.1           4.6\n",
      "Iris-setosa             3.6           5.0\n",
      "...                     ...           ...\n",
      "Iris-virginica          3.0           6.7\n",
      "Iris-virginica          2.5           6.3\n",
      "Iris-virginica          3.0           6.5\n",
      "Iris-virginica          3.4           6.2\n",
      "Iris-virginica          3.0           5.9\n",
      "\n",
      "[150 rows x 2 columns]\n"
     ]
    }
   ],
   "source": [
    "print(df[['sepal_width', 'sepal_length']])"
   ]
  },
  {
   "cell_type": "code",
   "execution_count": 6,
   "id": "b8ae84fe-8e95-4de5-88fb-955c0328180c",
   "metadata": {},
   "outputs": [
    {
     "name": "stdout",
     "output_type": "stream",
     "text": [
      "                 sepal_length  sepal_width  petal_length  petal_width\n",
      "species                                                              \n",
      "Iris-versicolor           7.0          3.2           4.7          1.4\n",
      "Iris-versicolor           6.4          3.2           4.5          1.5\n",
      "Iris-versicolor           6.9          3.1           4.9          1.5\n",
      "Iris-versicolor           5.5          2.3           4.0          1.3\n",
      "Iris-versicolor           6.5          2.8           4.6          1.5\n",
      "Iris-versicolor           5.7          2.8           4.5          1.3\n",
      "Iris-versicolor           6.3          3.3           4.7          1.6\n",
      "Iris-versicolor           4.9          2.4           3.3          1.0\n",
      "Iris-versicolor           6.6          2.9           4.6          1.3\n",
      "Iris-versicolor           5.2          2.7           3.9          1.4\n",
      "Iris-versicolor           5.0          2.0           3.5          1.0\n",
      "Iris-versicolor           5.9          3.0           4.2          1.5\n",
      "Iris-versicolor           6.0          2.2           4.0          1.0\n",
      "Iris-versicolor           6.1          2.9           4.7          1.4\n",
      "Iris-versicolor           5.6          2.9           3.6          1.3\n",
      "Iris-versicolor           6.7          3.1           4.4          1.4\n",
      "Iris-versicolor           5.6          3.0           4.5          1.5\n",
      "Iris-versicolor           5.8          2.7           4.1          1.0\n",
      "Iris-versicolor           6.2          2.2           4.5          1.5\n",
      "Iris-versicolor           5.6          2.5           3.9          1.1\n",
      "Iris-versicolor           5.9          3.2           4.8          1.8\n",
      "Iris-versicolor           6.1          2.8           4.0          1.3\n",
      "Iris-versicolor           6.3          2.5           4.9          1.5\n",
      "Iris-versicolor           6.1          2.8           4.7          1.2\n",
      "Iris-versicolor           6.4          2.9           4.3          1.3\n",
      "Iris-versicolor           6.6          3.0           4.4          1.4\n",
      "Iris-versicolor           6.8          2.8           4.8          1.4\n",
      "Iris-versicolor           6.7          3.0           5.0          1.7\n",
      "Iris-versicolor           6.0          2.9           4.5          1.5\n",
      "Iris-versicolor           5.7          2.6           3.5          1.0\n",
      "Iris-versicolor           5.5          2.4           3.8          1.1\n",
      "Iris-versicolor           5.5          2.4           3.7          1.0\n",
      "Iris-versicolor           5.8          2.7           3.9          1.2\n",
      "Iris-versicolor           6.0          2.7           5.1          1.6\n",
      "Iris-versicolor           5.4          3.0           4.5          1.5\n",
      "Iris-versicolor           6.0          3.4           4.5          1.6\n",
      "Iris-versicolor           6.7          3.1           4.7          1.5\n",
      "Iris-versicolor           6.3          2.3           4.4          1.3\n",
      "Iris-versicolor           5.6          3.0           4.1          1.3\n",
      "Iris-versicolor           5.5          2.5           4.0          1.3\n",
      "Iris-versicolor           5.5          2.6           4.4          1.2\n",
      "Iris-versicolor           6.1          3.0           4.6          1.4\n",
      "Iris-versicolor           5.8          2.6           4.0          1.2\n",
      "Iris-versicolor           5.0          2.3           3.3          1.0\n",
      "Iris-versicolor           5.6          2.7           4.2          1.3\n",
      "Iris-versicolor           5.7          3.0           4.2          1.2\n",
      "Iris-versicolor           5.7          2.9           4.2          1.3\n",
      "Iris-versicolor           6.2          2.9           4.3          1.3\n",
      "Iris-versicolor           5.1          2.5           3.0          1.1\n",
      "Iris-versicolor           5.7          2.8           4.1          1.3\n"
     ]
    }
   ],
   "source": [
    "print(df.loc['Iris-versicolor'])"
   ]
  },
  {
   "cell_type": "code",
   "execution_count": 7,
   "id": "b0dbd0be-3c09-424a-af17-8f7f0c34037f",
   "metadata": {},
   "outputs": [
    {
     "name": "stdout",
     "output_type": "stream",
     "text": [
      "             sepal_width  petal_length\n",
      "species                               \n",
      "Iris-setosa          3.5           1.4\n",
      "Iris-setosa          3.0           1.4\n"
     ]
    }
   ],
   "source": [
    "print(df.iloc[:2, 1:3])"
   ]
  },
  {
   "cell_type": "code",
   "execution_count": 8,
   "id": "821757e4-d7e5-46da-9817-9e0a50cb9d02",
   "metadata": {},
   "outputs": [
    {
     "name": "stdout",
     "output_type": "stream",
     "text": [
      "             sepal_length  sepal_width  petal_length  petal_width\n",
      "species                                                          \n",
      "Iris-setosa           5.7          4.4           1.5          0.4\n",
      "Iris-setosa           5.2          4.1           1.5          0.1\n",
      "Iris-setosa           5.5          4.2           1.4          0.2\n"
     ]
    }
   ],
   "source": [
    "print(df[df['sepal_width']>4])"
   ]
  },
  {
   "cell_type": "code",
   "execution_count": 9,
   "id": "27cf9675-4ede-48e9-9925-d14297234cd1",
   "metadata": {},
   "outputs": [
    {
     "name": "stdout",
     "output_type": "stream",
     "text": [
      "\n",
      "Mean of each group by species:\n",
      "                  sepal_length  sepal_width  petal_length  petal_width\n",
      "species                                                              \n",
      "Iris-setosa             5.006        3.418         1.464        0.244\n",
      "Iris-versicolor         5.936        2.770         4.260        1.326\n",
      "Iris-virginica          6.588        2.974         5.552        2.026\n"
     ]
    }
   ],
   "source": [
    "df.reset_index(inplace=True)  \n",
    "grouped_mean = df.groupby('species').mean()\n",
    "print(\"\\nMean of each group by species:\\n\", grouped_mean)"
   ]
  },
  {
   "cell_type": "code",
   "execution_count": 10,
   "id": "431b2eac-a476-41e8-97b4-1ef657222e7f",
   "metadata": {},
   "outputs": [
    {
     "name": "stdout",
     "output_type": "stream",
     "text": [
      "\n",
      "Aggregated data with multiple functions:\n",
      "                 sepal_length          \n",
      "                        mean  min  max\n",
      "species                               \n",
      "Iris-setosa            5.006  4.3  5.8\n",
      "Iris-versicolor        5.936  4.9  7.0\n",
      "Iris-virginica         6.588  4.9  7.9\n"
     ]
    }
   ],
   "source": [
    "group = df.groupby('species').agg({'sepal_length': ['mean', 'min', 'max']})\n",
    "print(\"\\nAggregated data with multiple functions:\\n\", group)"
   ]
  },
  {
   "cell_type": "code",
   "execution_count": 11,
   "id": "fd7d24bf-5fd4-4ed8-8290-1c82324204ee",
   "metadata": {},
   "outputs": [
    {
     "name": "stdout",
     "output_type": "stream",
     "text": [
      "\n",
      "Group size:\n",
      " species\n",
      "Iris-setosa        50\n",
      "Iris-versicolor    50\n",
      "Iris-virginica     50\n",
      "dtype: int64\n"
     ]
    }
   ],
   "source": [
    "grp_size = df.groupby('species').size()\n",
    "print(\"\\nGroup size:\\n\", grp_size)"
   ]
  },
  {
   "cell_type": "code",
   "execution_count": 12,
   "id": "14ef8709-647d-44c1-964e-a814f1dc21e4",
   "metadata": {},
   "outputs": [
    {
     "name": "stdout",
     "output_type": "stream",
     "text": [
      "            species  sepal_length  sepal_width  petal_length  petal_width\n",
      "60  Iris-versicolor           5.0          2.0           3.5          1.0\n"
     ]
    }
   ],
   "source": [
    "print(df[(df['sepal_width']<=2) & (df['sepal_length']>=4)])"
   ]
  },
  {
   "cell_type": "code",
   "execution_count": 13,
   "id": "03879145-262b-4766-8580-f88eddb6f893",
   "metadata": {},
   "outputs": [
    {
     "name": "stdout",
     "output_type": "stream",
     "text": [
      "             species  sepal_length  sepal_width  petal_length  petal_width\n",
      "41       Iris-setosa           4.5          2.3           1.3          0.3\n",
      "53   Iris-versicolor           5.5          2.3           4.0          1.3\n",
      "57   Iris-versicolor           4.9          2.4           3.3          1.0\n",
      "60   Iris-versicolor           5.0          2.0           3.5          1.0\n",
      "62   Iris-versicolor           6.0          2.2           4.0          1.0\n",
      "68   Iris-versicolor           6.2          2.2           4.5          1.5\n",
      "80   Iris-versicolor           5.5          2.4           3.8          1.1\n",
      "81   Iris-versicolor           5.5          2.4           3.7          1.0\n",
      "87   Iris-versicolor           6.3          2.3           4.4          1.3\n",
      "93   Iris-versicolor           5.0          2.3           3.3          1.0\n",
      "119   Iris-virginica           6.0          2.2           5.0          1.5\n"
     ]
    }
   ],
   "source": [
    "print(df.query('sepal_length >= 4.0 and sepal_width < 2.5'))"
   ]
  },
  {
   "cell_type": "code",
   "execution_count": 14,
   "id": "d6e0f14e-73fc-4a76-afe3-e2833b378068",
   "metadata": {},
   "outputs": [
    {
     "name": "stdout",
     "output_type": "stream",
     "text": [
      "\n",
      "Rows filtered:\n",
      "             species  sepal_length  sepal_width  petal_length  petal_width\n",
      "0       Iris-setosa           5.1          3.5           1.4          0.2\n",
      "1       Iris-setosa           4.9          3.0           1.4          0.2\n",
      "2       Iris-setosa           4.7          3.2           1.3          0.2\n",
      "3       Iris-setosa           4.6          3.1           1.5          0.2\n",
      "4       Iris-setosa           5.0          3.6           1.4          0.2\n",
      "..              ...           ...          ...           ...          ...\n",
      "145  Iris-virginica           6.7          3.0           5.2          2.3\n",
      "146  Iris-virginica           6.3          2.5           5.0          1.9\n",
      "147  Iris-virginica           6.5          3.0           5.2          2.0\n",
      "148  Iris-virginica           6.2          3.4           5.4          2.3\n",
      "149  Iris-virginica           5.9          3.0           5.1          1.8\n",
      "\n",
      "[100 rows x 5 columns]\n"
     ]
    }
   ],
   "source": [
    "species_list = ['Iris-setosa', 'Iris-virginica']\n",
    "isin_filtered = df[df['species'].isin(species_list)]\n",
    "print(\"\\nRows filtered:\\n\", isin_filtered)"
   ]
  },
  {
   "cell_type": "code",
   "execution_count": 15,
   "id": "65981c11-2522-482e-bd1e-5b7c32286226",
   "metadata": {},
   "outputs": [
    {
     "name": "stdout",
     "output_type": "stream",
     "text": [
      "\n",
      "Selected and renamed columns DataFrame:\n",
      "      Sepal Length  Sepal Width\n",
      "0             5.1          3.5\n",
      "1             4.9          3.0\n",
      "2             4.7          3.2\n",
      "3             4.6          3.1\n",
      "4             5.0          3.6\n",
      "..            ...          ...\n",
      "145           6.7          3.0\n",
      "146           6.3          2.5\n",
      "147           6.5          3.0\n",
      "148           6.2          3.4\n",
      "149           5.9          3.0\n",
      "\n",
      "[150 rows x 2 columns]\n"
     ]
    }
   ],
   "source": [
    "renamed_df = df[['sepal_length', 'sepal_width']].rename(columns={'sepal_length': 'Sepal Length', 'sepal_width': 'Sepal Width'})\n",
    "print(\"\\nSelected and renamed columns DataFrame:\\n\", renamed_df)"
   ]
  },
  {
   "cell_type": "code",
   "execution_count": null,
   "id": "7d029ed7-2065-43f8-8c79-05409dbb1703",
   "metadata": {},
   "outputs": [],
   "source": []
  }
 ],
 "metadata": {
  "kernelspec": {
   "display_name": "Python 3 (ipykernel)",
   "language": "python",
   "name": "python3"
  },
  "language_info": {
   "codemirror_mode": {
    "name": "ipython",
    "version": 3
   },
   "file_extension": ".py",
   "mimetype": "text/x-python",
   "name": "python",
   "nbconvert_exporter": "python",
   "pygments_lexer": "ipython3",
   "version": "3.11.5"
  }
 },
 "nbformat": 4,
 "nbformat_minor": 5
}
