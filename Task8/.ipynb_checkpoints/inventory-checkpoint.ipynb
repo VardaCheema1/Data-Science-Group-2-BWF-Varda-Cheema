{
 "cells": [
  {
   "cell_type": "markdown",
   "id": "58ef0153-478e-40d5-aca8-8308592e101b",
   "metadata": {},
   "source": [
    "# Task 8: Inventory"
   ]
  },
  {
   "cell_type": "code",
   "execution_count": 1,
   "id": "e89c1a6d-3c6e-466b-b56c-2312c58d7d42",
   "metadata": {},
   "outputs": [
    {
     "name": "stdout",
     "output_type": "stream",
     "text": [
      "Product added successfully\n",
      "Product added successfully\n",
      "Product category already exists in set\n",
      "Product added successfully\n",
      "Product added successfully\n",
      "Product category already exists in set\n",
      "Product added successfully\n",
      "Product category already exists in set\n",
      "{'name': 'jeans', 'category': 'clothes', 'stock': 50}\n",
      "{'name': 'shirts', 'category': 'clothes', 'stock': 30}\n",
      "{'name': 'shoes', 'category': 'footwear', 'stock': 20}\n",
      "{'name': 'sweaters', 'category': 'clothes', 'stock': 40}\n",
      "{'name': 'sandles', 'category': 'footwear', 'stock': 10}\n",
      "\n",
      " Updating stocks\n",
      "{'name': 'jeans', 'category': 'clothes', 'stock': 70}\n",
      "{'name': 'shirts', 'category': 'clothes', 'stock': 40}\n",
      "{'name': 'shoes', 'category': 'footwear', 'stock': 25}\n",
      "{'name': 'sweaters', 'category': 'clothes', 'stock': 40}\n",
      "{'name': 'sandles', 'category': 'footwear', 'stock': 10}\n",
      "\n",
      " Searching by footwear category\n",
      "shoes 25\n",
      "sandles 10\n",
      "\n",
      " Searching by accessories category\n",
      "No products in this category\n"
     ]
    }
   ],
   "source": [
    "products = {}\n",
    "l1 = []\n",
    "s1 = set()\n",
    "\n",
    "\n",
    "def add_product(product_id, name, category, stock):\n",
    "\n",
    "    product_info = (name, category) #this tuple is created for each product\n",
    "\n",
    "    products[product_id] = {\"name\": name, \"category\": category, \"stock\":stock}\n",
    "    print(\"Product added successfully\")\n",
    "\n",
    "    l1.append(product_id)\n",
    "\n",
    "    if (category not in s1):\n",
    "        s1.add(category)\n",
    "    else:\n",
    "        print(\"Product category already exists in set\")\n",
    "    \n",
    "        \n",
    "\n",
    "def update_stock(product_id, quantity):\n",
    "    if product_id in products:\n",
    "        products[product_id][\"stock\"] += quantity\n",
    "    else:\n",
    "        print(\"Product is not in inventory\")\n",
    "\n",
    "\n",
    "def display_products():\n",
    "    for product in products:\n",
    "        print(products[product])\n",
    "    \n",
    "\n",
    "def display_by_category(category):\n",
    "    item = None\n",
    "    for product, obj in products.items():\n",
    "        if obj[\"category\"] == category:\n",
    "            item = 1\n",
    "            print(obj[\"name\"], obj[\"stock\"])\n",
    "    \n",
    "    if item == None:\n",
    "        print(\"No products in this category\")\n",
    "            \n",
    "        \n",
    "add_product('1', 'jeans', 'clothes', 50)\n",
    "add_product('2', 'shirts', 'clothes', 30)\n",
    "add_product('3', 'shoes', 'footwear', 20)\n",
    "add_product('4', 'sweaters', 'clothes', 40)\n",
    "add_product('5', 'sandles', 'footwear', 10)\n",
    "\n",
    "display_products()\n",
    "\n",
    "print(\"\\n Updating stocks\")\n",
    "update_stock('1', 20)\n",
    "update_stock('2', 10)\n",
    "update_stock('3', 5)\n",
    "\n",
    "display_products()\n",
    "\n",
    "print('\\n Searching by footwear category')\n",
    "display_by_category('footwear')\n",
    "print('\\n Searching by accessories category')\n",
    "display_by_category('accessories')"
   ]
  },
  {
   "cell_type": "code",
   "execution_count": null,
   "id": "5ea45f35-270d-4bc2-a03f-bf889dd24928",
   "metadata": {},
   "outputs": [],
   "source": []
  }
 ],
 "metadata": {
  "kernelspec": {
   "display_name": "Python 3 (ipykernel)",
   "language": "python",
   "name": "python3"
  },
  "language_info": {
   "codemirror_mode": {
    "name": "ipython",
    "version": 3
   },
   "file_extension": ".py",
   "mimetype": "text/x-python",
   "name": "python",
   "nbconvert_exporter": "python",
   "pygments_lexer": "ipython3",
   "version": "3.11.5"
  }
 },
 "nbformat": 4,
 "nbformat_minor": 5
}
