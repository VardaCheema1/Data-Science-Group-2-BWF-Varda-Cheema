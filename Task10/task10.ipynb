{
 "cells": [
  {
   "cell_type": "markdown",
   "id": "13c9bf1f-6c09-425f-89c7-02a816760715",
   "metadata": {},
   "source": [
    "# Task 10: Numpy"
   ]
  },
  {
   "cell_type": "code",
   "execution_count": null,
   "id": "4edc9ffd-a615-4587-b5d6-aedb4e9585ce",
   "metadata": {},
   "outputs": [],
   "source": [
    "import numpy as np\n",
    "\n",
    "n = np.array((4,7,5,3,3))\n",
    "n1 = np.array((1,2,3,4,5))\n",
    "n2 = np.array([[3,5,7],[4,16,20],[17,6,8]])\n",
    "n3 = np.array([[1,2,3],[4,5,6],[7,8,9]])\n",
    "n4 = np.ones((2,3,4))\n",
    "\n",
    "sum = n + n1\n",
    "product = n2 * n3\n",
    "dot_prod = np.dot(n2,n3)\n",
    "\n",
    "#mean, mode, median\n",
    "mean = np.mean(n)\n",
    "values, counts = np.unique(n, return_counts=True)\n",
    "max_count_index = np.argmax(counts)\n",
    "mode_value = values[max_count_index]\n",
    "median = np.median(n)\n",
    "\n",
    "#min, max\n",
    "max = np.max(n2)\n",
    "min = np.min(n2)\n",
    "\n",
    "random_numbers = np.random.normal(loc=0, scale=1, size=1000)\n",
    "\n",
    "a1 = np.random.randint(10, 51, size=(5, 5))\n",
    "\n",
    "c_sum = np.cumsum(n1)\n",
    "\n",
    "correlation_matrix = np.corrcoef(n2)\n",
    "\n",
    "rolls = np.random.randint(1, 7, size=1000)\n",
    "roll_frequencies = np.bincount(rolls)[1:] \n",
    "\n",
    "\n",
    "print(\"Sum of 1D arrays\\n\",sum)\n",
    "print(\"Product of 2D arrays\\n\",product)\n",
    "print(\"Dot product of 2D arrays\\n\", dot_prod)\n",
    "print(\"Mean\", mean)\n",
    "print(\"Mode:\", mode_value)\n",
    "print(\"Median:\",median)\n",
    "print(\"Max\",max)\n",
    "print(\"Min\",min)\n",
    "#print(\"Array of 1k random numbers in normal distribution\\n\",random_numbers)\n",
    "print(\"2D array with uniform distribution\\n\", a1)\n",
    "print(\"Cumulative sum\",c_sum)\n",
    "print(\"correlation matrix\\n\", correlation_matrix)\n",
    "print(\"Dice Rolls Frequency:\", roll_frequencies)\n"
   ]
  }
 ],
 "metadata": {
  "kernelspec": {
   "display_name": "Python 3 (ipykernel)",
   "language": "python",
   "name": "python3"
  },
  "language_info": {
   "codemirror_mode": {
    "name": "ipython",
    "version": 3
   },
   "file_extension": ".py",
   "mimetype": "text/x-python",
   "name": "python",
   "nbconvert_exporter": "python",
   "pygments_lexer": "ipython3",
   "version": "3.11.5"
  }
 },
 "nbformat": 4,
 "nbformat_minor": 5
}
