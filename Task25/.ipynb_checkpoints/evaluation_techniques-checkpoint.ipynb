{
 "cells": [
  {
   "cell_type": "markdown",
   "id": "84164e37-1a67-413b-841f-d96c6a4eafa5",
   "metadata": {},
   "source": [
    "# Task 25: Evaluation Techniques for Regression Models"
   ]
  },
  {
   "cell_type": "code",
   "execution_count": 1,
   "id": "10839b0d-58d5-4f48-ac2f-21af382fb77b",
   "metadata": {},
   "outputs": [
    {
     "name": "stdout",
     "output_type": "stream",
     "text": [
      "Linear Regression Evaluation\n",
      "MAE: 42.7941\n",
      "MSE: 2900.1936\n",
      "RMSE: 53.8534\n",
      "R^2: 0.4526\n",
      "Adjusted R^2: 0.3824\n",
      "MAPE: 37.4998\n",
      "Median Absolute Error: 37.9882\n",
      "\n",
      "Ridge Regression Evaluation\n",
      "MAE: 42.8120\n",
      "MSE: 2892.0146\n",
      "RMSE: 53.7775\n",
      "R^2: 0.4541\n",
      "Adjusted R^2: 0.3842\n",
      "MAPE: 37.4482\n",
      "Median Absolute Error: 37.3793\n"
     ]
    }
   ],
   "source": [
    "import numpy as np\n",
    "from sklearn.datasets import load_diabetes\n",
    "from sklearn.model_selection import train_test_split\n",
    "from sklearn.preprocessing import StandardScaler\n",
    "from sklearn.linear_model import LinearRegression, Ridge\n",
    "from sklearn.metrics import mean_absolute_error, mean_squared_error, r2_score, median_absolute_error\n",
    "\n",
    "data = load_diabetes()\n",
    "X = data.data\n",
    "y = data.target\n",
    "X_train, X_test, y_train, y_test = train_test_split(X, y, test_size=0.2, random_state=42)\n",
    "\n",
    "scaler = StandardScaler()\n",
    "X_train = scaler.fit_transform(X_train)\n",
    "X_test = scaler.transform(X_test)\n",
    "\n",
    "#Linear Regression\n",
    "lin_reg = LinearRegression()\n",
    "lin_reg.fit(X_train, y_train)\n",
    "y_pred_lin = lin_reg.predict(X_test)\n",
    "\n",
    "#Ridge Regression\n",
    "ridge_reg = Ridge(alpha=1.0)\n",
    "ridge_reg.fit(X_train, y_train)\n",
    "y_pred_ridge = ridge_reg.predict(X_test)\n",
    "\n",
    "# Evaluation function\n",
    "def evaluate_model(y_true, y_pred):\n",
    "    mae = mean_absolute_error(y_true, y_pred)\n",
    "    mse = mean_squared_error(y_true, y_pred)\n",
    "    rmse = np.sqrt(mse)\n",
    "    r2 = r2_score(y_true, y_pred)\n",
    "    median_ae = median_absolute_error(y_true, y_pred)\n",
    "\n",
    "    n = len(y_true)\n",
    "    p = X_test.shape[1]\n",
    "    adj_r2 = 1 - (1 - r2) * (n - 1) / (n - p - 1)\n",
    "    \n",
    "    mape = np.mean(np.abs((y_true - y_pred) / y_true)) * 100\n",
    "    \n",
    "    return {\n",
    "        \"MAE\": mae,\n",
    "        \"MSE\": mse,\n",
    "        \"RMSE\": rmse,\n",
    "        \"R^2\": r2,\n",
    "        \"Adjusted R^2\": adj_r2,\n",
    "        \"MAPE\": mape,\n",
    "        \"Median Absolute Error\": median_ae\n",
    "    }\n",
    "\n",
    "# Evaluate Linear Regression\n",
    "print(\"Linear Regression Evaluation\")\n",
    "metrics_lin = evaluate_model(y_test, y_pred_lin)\n",
    "for metric, value in metrics_lin.items():\n",
    "    print(f\"{metric}: {value:.4f}\")\n",
    "\n",
    "print(\"\\nRidge Regression Evaluation\")\n",
    "# Evaluate Ridge Regression\n",
    "metrics_ridge = evaluate_model(y_test, y_pred_ridge)\n",
    "for metric, value in metrics_ridge.items():\n",
    "    print(f\"{metric}: {value:.4f}\")\n"
   ]
  },
  {
   "cell_type": "code",
   "execution_count": null,
   "id": "b33710aa-4cb2-42d9-8285-dfb98e214490",
   "metadata": {},
   "outputs": [],
   "source": []
  }
 ],
 "metadata": {
  "kernelspec": {
   "display_name": "Python 3 (ipykernel)",
   "language": "python",
   "name": "python3"
  },
  "language_info": {
   "codemirror_mode": {
    "name": "ipython",
    "version": 3
   },
   "file_extension": ".py",
   "mimetype": "text/x-python",
   "name": "python",
   "nbconvert_exporter": "python",
   "pygments_lexer": "ipython3",
   "version": "3.11.5"
  }
 },
 "nbformat": 4,
 "nbformat_minor": 5
}
