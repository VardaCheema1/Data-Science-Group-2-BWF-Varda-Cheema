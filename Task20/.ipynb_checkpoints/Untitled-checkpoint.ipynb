{
 "cells": [
  {
   "cell_type": "markdown",
   "id": "c1e59db9-820c-48b6-aa87-e45ff190b678",
   "metadata": {},
   "source": [
    "# Task 20: Feature Engineering"
   ]
  },
  {
   "cell_type": "markdown",
   "id": "2503bcb2-b150-4108-8577-0cd84e5b082e",
   "metadata": {},
   "source": [
    "## Task 1"
   ]
  },
  {
   "cell_type": "code",
   "execution_count": 45,
   "id": "d5eecc33-cefb-4aae-8c91-353a23915017",
   "metadata": {},
   "outputs": [
    {
     "name": "stdout",
     "output_type": "stream",
     "text": [
      "The history saving thread hit an unexpected error (OperationalError('attempt to write a readonly database')).History will not be written to the database.\n",
      "Requirement already satisfied: scikit-learn in /Library/Frameworks/Python.framework/Versions/3.11/lib/python3.11/site-packages (1.5.1)\n",
      "Requirement already satisfied: numpy>=1.19.5 in /Library/Frameworks/Python.framework/Versions/3.11/lib/python3.11/site-packages (from scikit-learn) (2.0.0)\n",
      "Requirement already satisfied: scipy>=1.6.0 in /Library/Frameworks/Python.framework/Versions/3.11/lib/python3.11/site-packages (from scikit-learn) (1.14.0)\n",
      "Requirement already satisfied: joblib>=1.2.0 in /Library/Frameworks/Python.framework/Versions/3.11/lib/python3.11/site-packages (from scikit-learn) (1.4.2)\n",
      "Requirement already satisfied: threadpoolctl>=3.1.0 in /Library/Frameworks/Python.framework/Versions/3.11/lib/python3.11/site-packages (from scikit-learn) (3.5.0)\n",
      "\n",
      "\u001b[1m[\u001b[0m\u001b[34;49mnotice\u001b[0m\u001b[1;39;49m]\u001b[0m\u001b[39;49m A new release of pip is available: \u001b[0m\u001b[31;49m23.2.1\u001b[0m\u001b[39;49m -> \u001b[0m\u001b[32;49m24.1.2\u001b[0m\n",
      "\u001b[1m[\u001b[0m\u001b[34;49mnotice\u001b[0m\u001b[1;39;49m]\u001b[0m\u001b[39;49m To update, run: \u001b[0m\u001b[32;49mpip3.11 install --upgrade pip\u001b[0m\n",
      "Note: you may need to restart the kernel to use updated packages.\n"
     ]
    }
   ],
   "source": [
    "pip install scikit-learn\n"
   ]
  },
  {
   "cell_type": "code",
   "execution_count": 46,
   "id": "90e101e6-1ef3-4c00-8269-4813ef06d3a7",
   "metadata": {},
   "outputs": [
    {
     "name": "stdout",
     "output_type": "stream",
     "text": [
      "Chi-Squared Scores:\n",
      "petal length (cm)    116.312613\n",
      "petal width (cm)      67.048360\n",
      "sepal length (cm)     10.817821\n",
      "sepal width (cm)       3.710728\n",
      "dtype: float64\n"
     ]
    }
   ],
   "source": [
    "import pandas as pd\n",
    "import numpy as np\n",
    "from sklearn.datasets import load_iris\n",
    "from sklearn.feature_selection import chi2\n",
    "\n",
    "iris = load_iris()\n",
    "X = pd.DataFrame(iris.data, columns=iris.feature_names)\n",
    "y = pd.Series(iris.target, name='species')\n",
    "\n",
    "#using chi squared test\n",
    "chi2_scores = chi2(X, y)[0]\n",
    "chi2_series = pd.Series(chi2_scores, index=X.columns)\n",
    "chi2_series = chi2_series.sort_values(ascending=False)\n",
    "print(\"Chi-Squared Scores:\")\n",
    "print(chi2_series)\n"
   ]
  },
  {
   "cell_type": "markdown",
   "id": "2c3e42de-84c1-464d-bf60-bc8e222ce4ba",
   "metadata": {},
   "source": [
    "#### The features to be selected are petal length and petal width as they both show very high chi squared scores as compared to sepal length and sepal width. \n",
    "\n",
    "#### Higher chi squared values signify that those features have a higher correlation to the target value"
   ]
  },
  {
   "cell_type": "markdown",
   "id": "e3708b1b-d302-495a-b2ec-4686acbb32cc",
   "metadata": {},
   "source": [
    "## Task 2"
   ]
  },
  {
   "cell_type": "code",
   "execution_count": 47,
   "id": "3fafcf09-2098-4e44-8200-3a1815b22eda",
   "metadata": {},
   "outputs": [
    {
     "name": "stdout",
     "output_type": "stream",
     "text": [
      "   sepal length (cm)  sepal width (cm)  petal length (cm)  petal width (cm)  \\\n",
      "0                5.1               3.5                1.4               0.2   \n",
      "1                4.9               3.0                1.4               0.2   \n",
      "2                4.7               3.2                1.3               0.2   \n",
      "3                4.6               3.1                1.5               0.2   \n",
      "4                5.0               3.6                1.4               0.2   \n",
      "\n",
      "   sepal length (cm)_log  \n",
      "0               1.629241  \n",
      "1               1.589235  \n",
      "2               1.547563  \n",
      "3               1.526056  \n",
      "4               1.609438  \n"
     ]
    }
   ],
   "source": [
    "X['sepal length (cm)_log'] = np.log(X['sepal length (cm)'])\n",
    "print(X.head())\n",
    "\n",
    "#log transformation applied"
   ]
  },
  {
   "cell_type": "markdown",
   "id": "ebd2132e-52f7-488f-be34-37a21b5d5e32",
   "metadata": {},
   "source": [
    "## Task 3"
   ]
  },
  {
   "cell_type": "code",
   "execution_count": 48,
   "id": "f2fa767c-df78-483b-b557-bb080d665b23",
   "metadata": {},
   "outputs": [
    {
     "name": "stdout",
     "output_type": "stream",
     "text": [
      "   sepal length (cm)  sepal width (cm)  petal length (cm)  petal width (cm)  \\\n",
      "0                5.1               3.5                1.4               0.2   \n",
      "1                4.9               3.0                1.4               0.2   \n",
      "2                4.7               3.2                1.3               0.2   \n",
      "3                4.6               3.1                1.5               0.2   \n",
      "4                5.0               3.6                1.4               0.2   \n",
      "\n",
      "   sepal length (cm)_log  sepal area (cm^2)  \n",
      "0               1.629241              17.85  \n",
      "1               1.589235              14.70  \n",
      "2               1.547563              15.04  \n",
      "3               1.526056              14.26  \n",
      "4               1.609438              18.00  \n"
     ]
    }
   ],
   "source": [
    "X['sepal area (cm^2)'] = X['sepal length (cm)'] * X['sepal width (cm)']\n",
    "print(X.head())\n",
    "\n",
    "# created a column of sepal area"
   ]
  },
  {
   "cell_type": "markdown",
   "id": "94e1d379-f376-436a-a689-88c020c12428",
   "metadata": {},
   "source": [
    "## Task 4"
   ]
  },
  {
   "cell_type": "code",
   "execution_count": 42,
   "id": "07efb3cb-b074-4a43-b593-c2956fbc409f",
   "metadata": {},
   "outputs": [
    {
     "name": "stdout",
     "output_type": "stream",
     "text": [
      "   poly_0  poly_1  poly_2  poly_3    poly_4  poly_5  poly_6  poly_7  poly_8  \\\n",
      "0     5.1     3.5     1.4     0.2  1.629241   17.85   26.01   17.85    7.14   \n",
      "1     4.9     3.0     1.4     0.2  1.589235   14.70   24.01   14.70    6.86   \n",
      "2     4.7     3.2     1.3     0.2  1.547563   15.04   22.09   15.04    6.11   \n",
      "3     4.6     3.1     1.5     0.2  1.526056   14.26   21.16   14.26    6.90   \n",
      "4     5.0     3.6     1.4     0.2  1.609438   18.00   25.00   18.00    7.00   \n",
      "\n",
      "   poly_9  ...  poly_17  poly_18   poly_19  poly_20  poly_21   poly_22  \\\n",
      "0    1.02  ...     1.96     0.28  2.280937   24.990     0.04  0.325848   \n",
      "1    0.98  ...     1.96     0.28  2.224929   20.580     0.04  0.317847   \n",
      "2    0.94  ...     1.69     0.26  2.011831   19.552     0.04  0.309513   \n",
      "3    0.92  ...     2.25     0.30  2.289084   21.390     0.04  0.305211   \n",
      "4    1.00  ...     1.96     0.28  2.253213   25.200     0.04  0.321888   \n",
      "\n",
      "   poly_23   poly_24    poly_25   poly_26  \n",
      "0    3.570  2.654425  29.081944  318.6225  \n",
      "1    2.940  2.525669  23.361758  216.0900  \n",
      "2    3.008  2.394950  23.275340  226.2016  \n",
      "3    2.852  2.328848  21.761563  203.3476  \n",
      "4    3.600  2.590290  28.969882  324.0000  \n",
      "\n",
      "[5 rows x 27 columns]\n"
     ]
    }
   ],
   "source": [
    "poly = PolynomialFeatures(degree=2, include_bias=False)\n",
    "X_poly = poly.fit_transform(X)\n",
    "\n",
    "poly_names = [f\"poly_{i}\" for i in range(X_poly.shape[1])]  #just using a naming convention for the polynomials\n",
    "\n",
    "X_polynomials = pd.DataFrame(X_poly, columns=poly_names)\n",
    "print(X_polynomials.head())"
   ]
  },
  {
   "cell_type": "markdown",
   "id": "5577c640-7a2d-4467-8b0c-2472a0808807",
   "metadata": {},
   "source": [
    "## Task 5"
   ]
  },
  {
   "cell_type": "code",
   "execution_count": 43,
   "id": "95ce7bf5-9f4f-440b-b7aa-ec4522372ddb",
   "metadata": {},
   "outputs": [
    {
     "name": "stdout",
     "output_type": "stream",
     "text": [
      "   sepal length (cm)  sepal width (cm)  petal length (cm)  petal width (cm)  \\\n",
      "0                5.1               3.5                1.4               0.2   \n",
      "1                4.9               3.0                1.4               0.2   \n",
      "2                4.7               3.2                1.3               0.2   \n",
      "3                4.6               3.1                1.5               0.2   \n",
      "4                5.0               3.6                1.4               0.2   \n",
      "\n",
      "   sepal length (cm)_log  sepal area (cm^2) category  \n",
      "0               1.629241              17.85      low  \n",
      "1               1.589235              14.70      low  \n",
      "2               1.547563              15.04      low  \n",
      "3               1.526056              14.26      low  \n",
      "4               1.609438              18.00      low  \n",
      "\n",
      "Encoded DataFrame:\n",
      "  category  category_encoded\n",
      "0      low                 1\n",
      "1      low                 1\n",
      "2      low                 1\n",
      "3      low                 1\n",
      "4      low                 1\n"
     ]
    }
   ],
   "source": [
    "from sklearn.preprocessing import LabelEncoder\n",
    "from sklearn.datasets import load_iris\n",
    "\n",
    "X['category'] = pd.cut(X['sepal length (cm)'], bins=3, labels=['low', 'medium', 'high'])\n",
    "print(X.head())\n",
    "\n",
    "label_encoder = LabelEncoder()\n",
    "X['category_encoded'] = label_encoder.fit_transform(X['category'])\n",
    "print(\"\\nEncoded DataFrame:\")\n",
    "print(X[['category', 'category_encoded']].head())"
   ]
  },
  {
   "cell_type": "code",
   "execution_count": null,
   "id": "9d47c47e-9cd3-42a4-960e-d890d0ad14a9",
   "metadata": {},
   "outputs": [],
   "source": []
  }
 ],
 "metadata": {
  "kernelspec": {
   "display_name": "Python 3 (ipykernel)",
   "language": "python",
   "name": "python3"
  },
  "language_info": {
   "codemirror_mode": {
    "name": "ipython",
    "version": 3
   },
   "file_extension": ".py",
   "mimetype": "text/x-python",
   "name": "python",
   "nbconvert_exporter": "python",
   "pygments_lexer": "ipython3",
   "version": "3.11.5"
  }
 },
 "nbformat": 4,
 "nbformat_minor": 5
}
