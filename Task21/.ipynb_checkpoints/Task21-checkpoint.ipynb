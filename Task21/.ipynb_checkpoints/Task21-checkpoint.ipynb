{
 "cells": [
  {
   "cell_type": "markdown",
   "id": "66a38267-d251-49a4-9fa2-f88b4136a3e4",
   "metadata": {},
   "source": [
    "# Task 21\n",
    "\n",
    "## Linear Algebra \n",
    "\n",
    "### Matrix Creation"
   ]
  },
  {
   "cell_type": "code",
   "execution_count": 1,
   "id": "d6836767-f9d1-4bec-8825-d81e90580842",
   "metadata": {},
   "outputs": [
    {
     "name": "stdout",
     "output_type": "stream",
     "text": [
      "[[0. 0. 0.]\n",
      " [0. 0. 0.]\n",
      " [0. 0. 0.]]\n",
      "[[1. 0. 0.]\n",
      " [0. 1. 0.]\n",
      " [0. 0. 1.]]\n",
      "[[0.17309205 0.93172829 0.68606049]\n",
      " [0.42432002 0.76734488 0.02030819]\n",
      " [0.0483571  0.91493388 0.6333321 ]]\n"
     ]
    }
   ],
   "source": [
    "import numpy as np\n",
    "zero_matrix = np.zeros((3, 3))\n",
    "print(zero_matrix)\n",
    "\n",
    "identity_matrix = np.eye(3)\n",
    "print(identity_matrix)\n",
    "\n",
    "random_matrix = np.random.rand(3, 3)\n",
    "print(random_matrix)\n"
   ]
  },
  {
   "cell_type": "code",
   "execution_count": 2,
   "id": "66bda6f2-a66c-4958-99a7-c64c9edc973f",
   "metadata": {},
   "outputs": [
    {
     "name": "stdout",
     "output_type": "stream",
     "text": [
      "Addition:\n",
      " [[ 6  8]\n",
      " [10 12]]\n",
      "Subtraction:\n",
      " [[-4 -4]\n",
      " [-4 -4]]\n",
      "Multiplication:\n",
      " [[19 22]\n",
      " [43 50]]\n"
     ]
    }
   ],
   "source": [
    "A = np.array([[1, 2], [3, 4]])\n",
    "B = np.array([[5, 6], [7, 8]])\n",
    "addition = A + B\n",
    "subtraction = A - B\n",
    "print(\"Addition:\\n\", addition)\n",
    "print(\"Subtraction:\\n\", subtraction)\n",
    "\n",
    "multiplication = np.dot(A, B)  # Or A @ B for Python 3.5+\n",
    "print(\"Multiplication:\\n\", multiplication)\n",
    "\n"
   ]
  },
  {
   "cell_type": "code",
   "execution_count": 3,
   "id": "6ef58852-b871-45f2-9ad1-20f63c96d483",
   "metadata": {},
   "outputs": [
    {
     "name": "stdout",
     "output_type": "stream",
     "text": [
      "Transpose of A:\n",
      " [[1 3]\n",
      " [2 4]]\n",
      "Determinant of A: -2.0000000000000004\n",
      "Inverse of A:\n",
      " [[-2.   1. ]\n",
      " [ 1.5 -0.5]]\n"
     ]
    }
   ],
   "source": [
    "transpose = A.T\n",
    "print(\"Transpose of A:\\n\", transpose)\n",
    "\n",
    "determinant = np.linalg.det(A)\n",
    "print(\"Determinant of A:\", determinant)\n",
    "\n",
    "inverse = np.linalg.inv(A)\n",
    "print(\"Inverse of A:\\n\", inverse)\n",
    "\n"
   ]
  },
  {
   "cell_type": "markdown",
   "id": "6db973d8-28f1-44ca-8ed3-80b17be6e1bc",
   "metadata": {},
   "source": [
    "### Solving Linear Equations"
   ]
  },
  {
   "cell_type": "code",
   "execution_count": 4,
   "id": "0e9cc261-8891-4fe8-80eb-7da66b330063",
   "metadata": {},
   "outputs": [
    {
     "name": "stdout",
     "output_type": "stream",
     "text": [
      "Solution (x, y): [0.78571429 1.14285714]\n"
     ]
    }
   ],
   "source": [
    "coefficients = np.array([[2, 3], [4, -1]])\n",
    "constants = np.array([5, 2])\n",
    "solution = np.linalg.solve(coefficients, constants)\n",
    "print(\"Solution (x, y):\", solution)\n"
   ]
  },
  {
   "cell_type": "code",
   "execution_count": 10,
   "id": "e6ed44a0-e60c-4279-bc09-d87c096959ed",
   "metadata": {},
   "outputs": [
    {
     "name": "stdout",
     "output_type": "stream",
     "text": [
      "[[0. 1.]\n",
      " [1. 0.]]\n",
      "[[1.         0.        ]\n",
      " [0.33333333 1.        ]]\n",
      "[[3.         4.        ]\n",
      " [0.         0.66666667]]\n",
      "[[-0.31622777 -0.9486833 ]\n",
      " [-0.9486833   0.31622777]]\n",
      "[[-3.16227766 -4.42718872]\n",
      " [ 0.         -0.63245553]]\n"
     ]
    }
   ],
   "source": [
    "import scipy.linalg\n",
    "P, L, U = scipy.linalg.lu(A)\n",
    "print(P)\n",
    "print(L)\n",
    "print(U)\n",
    "\n",
    "Q, R = np.linalg.qr(A)\n",
    "print(Q)\n",
    "print(R)\n"
   ]
  },
  {
   "cell_type": "markdown",
   "id": "f4e222a8-d1cb-44c2-a6aa-22bcd0b313ff",
   "metadata": {},
   "source": [
    "### Eigenvalues and Eigenvectors"
   ]
  },
  {
   "cell_type": "code",
   "execution_count": 11,
   "id": "fc027e11-80ed-4fe8-bef2-b5013b61d5cf",
   "metadata": {},
   "outputs": [
    {
     "name": "stdout",
     "output_type": "stream",
     "text": [
      "Eigenvalues: [-0.37228132  5.37228132]\n",
      "Eigenvectors:\n",
      " [[-0.82456484 -0.41597356]\n",
      " [ 0.56576746 -0.90937671]]\n"
     ]
    }
   ],
   "source": [
    "eigenvalues, eigenvectors = np.linalg.eig(A)\n",
    "print(\"Eigenvalues:\", eigenvalues)\n",
    "print(\"Eigenvectors:\\n\", eigenvectors)\n"
   ]
  },
  {
   "cell_type": "code",
   "execution_count": 12,
   "id": "ab2a3ea6-c35a-453c-879a-416b6cb22420",
   "metadata": {},
   "outputs": [
    {
     "name": "stdout",
     "output_type": "stream",
     "text": [
      "Reconstructed A:\n",
      " [[1. 2.]\n",
      " [3. 4.]]\n"
     ]
    }
   ],
   "source": [
    "reconstructed_A = eigenvectors @ np.diag(eigenvalues) @ np.linalg.inv(eigenvectors)\n",
    "print(\"Reconstructed A:\\n\", reconstructed_A)\n"
   ]
  },
  {
   "cell_type": "markdown",
   "id": "10789f10-f34f-4687-b20f-4b69ea479aea",
   "metadata": {},
   "source": [
    "### Vector Operations\n"
   ]
  },
  {
   "cell_type": "code",
   "execution_count": 13,
   "id": "d9ab261f-4c87-4eae-92d0-016d2f6afebc",
   "metadata": {},
   "outputs": [
    {
     "name": "stdout",
     "output_type": "stream",
     "text": [
      "Addition of vectors: [5 7 9]\n",
      "Dot product of vectors: 32\n"
     ]
    }
   ],
   "source": [
    "v1 = np.array([1, 2, 3])\n",
    "v2 = np.array([4, 5, 6])\n",
    "addition_vector = v1 + v2\n",
    "dot_product = np.dot(v1, v2)\n",
    "print(\"Addition of vectors:\", addition_vector)\n",
    "print(\"Dot product of vectors:\", dot_product)\n"
   ]
  },
  {
   "cell_type": "code",
   "execution_count": 14,
   "id": "e70deb4a-5d4c-4615-91a8-be36662feec8",
   "metadata": {},
   "outputs": [
    {
     "name": "stdout",
     "output_type": "stream",
     "text": [
      "Cross product of vectors: [-3  6 -3]\n"
     ]
    }
   ],
   "source": [
    "cross_product = np.cross(v1, v2)\n",
    "print(\"Cross product of vectors:\", cross_product)\n"
   ]
  },
  {
   "cell_type": "code",
   "execution_count": 15,
   "id": "4ccd407c-c1d1-4fca-8f6b-fcecf3c12910",
   "metadata": {},
   "outputs": [
    {
     "name": "stdout",
     "output_type": "stream",
     "text": [
      "Normalized v1: [0.26726124 0.53452248 0.80178373]\n"
     ]
    }
   ],
   "source": [
    "norm_v1 = np.linalg.norm(v1)\n",
    "normalized_v1 = v1 / norm_v1\n",
    "print(\"Normalized v1:\", normalized_v1)\n"
   ]
  },
  {
   "cell_type": "markdown",
   "id": "0dd87542-2ae3-4169-b6bd-3734e5b93ca1",
   "metadata": {},
   "source": [
    "### Matrix Decomposition"
   ]
  },
  {
   "cell_type": "code",
   "execution_count": 17,
   "id": "ab1f45b3-a71c-4a83-b837-fc458ce53296",
   "metadata": {},
   "outputs": [
    {
     "name": "stdout",
     "output_type": "stream",
     "text": [
      "Original Data:\n",
      " [[0.5488135  0.71518937 0.60276338]\n",
      " [0.54488318 0.4236548  0.64589411]\n",
      " [0.43758721 0.891773   0.96366276]\n",
      " [0.38344152 0.79172504 0.52889492]\n",
      " [0.56804456 0.92559664 0.07103606]]\n",
      "Transformed Data:\n",
      " [[ 0.04065267 -0.03659738]\n",
      " [ 0.14333428 -0.30819825]\n",
      " [ 0.36708804  0.22169979]\n",
      " [-0.02908926  0.05789064]\n",
      " [-0.52198573  0.06520521]]\n"
     ]
    }
   ],
   "source": [
    "from sklearn.decomposition import PCA\n",
    "\n",
    "np.random.seed(0)\n",
    "data = np.random.rand(5, 3)\n",
    "pca = PCA(n_components=2)\n",
    "pca.fit(data)\n",
    "transformed_data = pca.transform(data)\n",
    "\n",
    "print(\"Original Data:\\n\", data)\n",
    "print(\"Transformed Data:\\n\", transformed_data)\n"
   ]
  },
  {
   "cell_type": "markdown",
   "id": "22dba07f-0174-4ad4-bb8e-9baeb8f22e7b",
   "metadata": {},
   "source": [
    "## Calculus\n",
    "\n",
    "### Numerical Differentiation"
   ]
  },
  {
   "cell_type": "code",
   "execution_count": 18,
   "id": "bcc76b39-c45c-4bc8-b988-b3ebcd85a564",
   "metadata": {},
   "outputs": [
    {
     "name": "stdout",
     "output_type": "stream",
     "text": [
      "Forward Difference: 2.00001000001393\n",
      "Backward Difference: 1.9999899999900703\n",
      "Central Difference at x=1: 2.000000000002\n"
     ]
    }
   ],
   "source": [
    "def f(x):\n",
    "    return x**2\n",
    "\n",
    "def forward_difference(f, x, h):\n",
    "    return (f(x + h) - f(x)) / h\n",
    "\n",
    "def backward_difference(f, x, h):\n",
    "    return (f(x) - f(x - h)) / h\n",
    "\n",
    "def central_difference(f, x, h):\n",
    "    return (f(x + h) - f(x - h)) / (2 * h)\n",
    "\n",
    "x = 1.0  \n",
    "h = 1e-5 \n",
    "forward_diff = forward_difference(f, x, h)\n",
    "print(\"Forward Difference:\", forward_diff)\n",
    "\n",
    "backward_diff = backward_difference(f, x, h)\n",
    "print(\"Backward Difference:\", backward_diff)\n",
    "\n",
    "central_diff = central_difference(f, x, h)\n",
    "print(\"Central Difference at x=1:\", central_diff)\n"
   ]
  },
  {
   "cell_type": "markdown",
   "id": "94f4ec7e-aff3-4cc9-a782-ffa3c0bef961",
   "metadata": {},
   "source": [
    "### Integration"
   ]
  },
  {
   "cell_type": "code",
   "execution_count": 28,
   "id": "426da766-d3c7-49bd-bf52-fb04f5e3cbd5",
   "metadata": {},
   "outputs": [
    {
     "name": "stdout",
     "output_type": "stream",
     "text": [
      "Integral using Trapezoidal Rule: 0.33335033840084355\n",
      "Integral using Simpson's Rule: 49.49999999999999\n"
     ]
    },
    {
     "name": "stderr",
     "output_type": "stream",
     "text": [
      "/var/folders/04/j4xd1bzj4vn5l10n9kyhkb680000gn/T/ipykernel_31358/3251821622.py:8: DeprecationWarning: `trapz` is deprecated. Use `trapezoid` instead, or one of the numerical integration functions in `scipy.integrate`.\n",
      "  integral_trapz = np.trapz(y, x)\n"
     ]
    }
   ],
   "source": [
    "import numpy as np\n",
    "from scipy.integrate import simpson\n",
    "\n",
    "x = np.linspace(0, 1, 100)\n",
    "y = x**2\n",
    "\n",
    "integral_trapz = np.trapz(y, x)\n",
    "integral_simps = simpson(x)\n",
    "\n",
    "print(\"Integral using Trapezoidal Rule:\", integral_trapz)\n",
    "print(\"Integral using Simpson's Rule:\", integral_simps)\n"
   ]
  },
  {
   "cell_type": "markdown",
   "id": "4778db4f-eb2a-466b-a140-46755122196c",
   "metadata": {},
   "source": [
    "### Partial Derivatives "
   ]
  },
  {
   "cell_type": "code",
   "execution_count": null,
   "id": "08ca4030-38c8-45e0-88c0-e87c19582e61",
   "metadata": {},
   "outputs": [],
   "source": [
    "import numpy as np\n",
    "from sympy import symbols, diff\n",
    "\n",
    "x, y = symbols('x y')\n",
    "f = x**2 + y**3\n",
    "\n",
    "partial_derivative_x = diff(f, x)\n",
    "partial_derivative_y = diff(f, y)\n",
    "\n",
    "print(\"Partial Derivative with respect to x:\", partial_derivative_x)\n",
    "print(\"Partial Derivative with respect to y:\", partial_derivative_y)\n"
   ]
  },
  {
   "cell_type": "markdown",
   "id": "0e99753e-4460-4bdc-b6a7-12618e659d57",
   "metadata": {},
   "source": [
    "### Optimization"
   ]
  },
  {
   "cell_type": "code",
   "execution_count": 30,
   "id": "cabde179-6624-478a-b43f-dcf576df9a1e",
   "metadata": {},
   "outputs": [
    {
     "name": "stdout",
     "output_type": "stream",
     "text": [
      "Optimal solution: [-1.30644012]\n"
     ]
    }
   ],
   "source": [
    "from scipy.optimize import minimize\n",
    "import numpy as np\n",
    "\n",
    "def objective_function(x):\n",
    "    return x**2 + 10*np.sin(x)\n",
    "\n",
    "initial_guess = 0\n",
    "result = minimize(objective_function, initial_guess)\n",
    "print(\"Optimal solution:\", result.x)\n"
   ]
  },
  {
   "cell_type": "code",
   "execution_count": null,
   "id": "bd04e3c5-f0e6-4789-9871-a34cbcdeb453",
   "metadata": {},
   "outputs": [],
   "source": []
  }
 ],
 "metadata": {
  "kernelspec": {
   "display_name": "Python 3 (ipykernel)",
   "language": "python",
   "name": "python3"
  },
  "language_info": {
   "codemirror_mode": {
    "name": "ipython",
    "version": 3
   },
   "file_extension": ".py",
   "mimetype": "text/x-python",
   "name": "python",
   "nbconvert_exporter": "python",
   "pygments_lexer": "ipython3",
   "version": "3.11.5"
  }
 },
 "nbformat": 4,
 "nbformat_minor": 5
}
