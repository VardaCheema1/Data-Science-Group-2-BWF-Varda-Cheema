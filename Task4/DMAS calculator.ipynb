{
 "cells": [
  {
   "cell_type": "code",
   "execution_count": 3,
   "id": "ef62b590-37c5-4840-81da-67d3dcac3778",
   "metadata": {},
   "outputs": [
    {
     "name": "stdin",
     "output_type": "stream",
     "text": [
      "Enter first number: 3\n",
      "Enter second number: 2\n"
     ]
    },
    {
     "name": "stdout",
     "output_type": "stream",
     "text": [
      "The sum of first and second number is:  5\n",
      "The difference of first and second number is:  1\n",
      "The product of first and secind number is:  6\n",
      "The quotient of first and secind number is:  1.5\n"
     ]
    }
   ],
   "source": [
    "#______________DMAS Calculator________________\n",
    "\n",
    "num1 = int(input(\"Enter first number:\"))\n",
    "num2 = int(input(\"Enter second number:\"))\n",
    "\n",
    "print(\"The sum of first and second number is: \", num1+num2)\n",
    "print(\"The difference of first and second number is: \", num1-num2)\n",
    "print(\"The product of first and second number is: \", num1*num2)\n",
    "print(\"The quotient of first and second number is: \", num1/num2)"
   ]
  },
  {
   "cell_type": "code",
   "execution_count": null,
   "id": "bd68d0ef-8524-44c1-9601-61a712ac438b",
   "metadata": {},
   "outputs": [],
   "source": [
    "\n"
   ]
  }
 ],
 "metadata": {
  "kernelspec": {
   "display_name": "Python 3 (ipykernel)",
   "language": "python",
   "name": "python3"
  },
  "language_info": {
   "codemirror_mode": {
    "name": "ipython",
    "version": 3
   },
   "file_extension": ".py",
   "mimetype": "text/x-python",
   "name": "python",
   "nbconvert_exporter": "python",
   "pygments_lexer": "ipython3",
   "version": "3.11.5"
  }
 },
 "nbformat": 4,
 "nbformat_minor": 5
}
