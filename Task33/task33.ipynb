{
 "cells": [
  {
   "cell_type": "code",
   "execution_count": 1,
   "id": "f9f9b574-a0b4-414e-99d4-7612e747f94f",
   "metadata": {},
   "outputs": [
    {
     "name": "stdout",
     "output_type": "stream",
     "text": [
      "Epoch 100/1000, MSE: 0.2285\n",
      "Epoch 200/1000, MSE: 0.2080\n",
      "Epoch 300/1000, MSE: 0.1882\n",
      "Epoch 400/1000, MSE: 0.1689\n",
      "Epoch 500/1000, MSE: 0.1499\n",
      "Epoch 600/1000, MSE: 0.1316\n",
      "Epoch 700/1000, MSE: 0.1139\n",
      "Epoch 800/1000, MSE: 0.0972\n",
      "Epoch 900/1000, MSE: 0.0818\n",
      "Epoch 1000/1000, MSE: 0.0677\n",
      "Predicted outputs:\n",
      "[[0.8362994 ]\n",
      " [1.17346936]\n",
      " [1.4464276 ]\n",
      " [1.6475552 ]]\n"
     ]
    }
   ],
   "source": [
    "import numpy as np\n",
    "\n",
    "def sigmoid(x):\n",
    "    return 1 / (1 + np.exp(-x))\n",
    "\n",
    "def sigmoid_derivative(x):\n",
    "    return x * (1 - x)\n",
    "\n",
    "def relu(x):\n",
    "    return np.maximum(0, x)\n",
    "\n",
    "def relu_derivative(x):\n",
    "    return np.where(x > 0, 1, 0)\n",
    "\n",
    "X = np.array([[0.1, 0.2, 0.3], [0.4, 0.5, 0.6], [0.7, 0.8, 0.9], [1.0, 1.1, 1.2]])\n",
    "y = np.array([[0.5], [1.0], [1.5], [2.0]])\n",
    "\n",
    "input_size = X.shape[1]\n",
    "hidden_size = 5\n",
    "output_size = y.shape[1]\n",
    "\n",
    "np.random.seed(42)\n",
    "weights_input_hidden = np.random.rand(input_size, hidden_size)\n",
    "bias_hidden = np.random.rand(hidden_size)\n",
    "weights_hidden_output = np.random.rand(hidden_size, output_size)\n",
    "bias_output = np.random.rand(output_size)\n",
    "\n",
    "learning_rate = 0.01\n",
    "epochs = 1000\n",
    "\n",
    "for epoch in range(epochs):\n",
    "    hidden_layer_input = np.dot(X, weights_input_hidden) + bias_hidden\n",
    "    hidden_layer_output = sigmoid(hidden_layer_input)\n",
    "    \n",
    "    output_layer_input = np.dot(hidden_layer_output, weights_hidden_output) + bias_output\n",
    "    predicted_output = output_layer_input \n",
    "    error = y - predicted_output\n",
    "    mse = np.mean(np.square(error))\n",
    "  \n",
    "    d_predicted_output = error\n",
    "    d_weights_hidden_output = np.dot(hidden_layer_output.T, d_predicted_output)\n",
    "    d_bias_output = np.sum(d_predicted_output, axis=0)\n",
    "    \n",
    "    d_hidden_layer_output = np.dot(d_predicted_output, weights_hidden_output.T) * sigmoid_derivative(hidden_layer_output)\n",
    "    d_weights_input_hidden = np.dot(X.T, d_hidden_layer_output)\n",
    "    d_bias_hidden = np.sum(d_hidden_layer_output, axis=0)\n",
    "    \n",
    "    weights_hidden_output += learning_rate * d_weights_hidden_output\n",
    "    bias_output += learning_rate * d_bias_output\n",
    "    weights_input_hidden += learning_rate * d_weights_input_hidden\n",
    "    bias_hidden += learning_rate * d_bias_hidden\n",
    "\n",
    "    if (epoch + 1) % 100 == 0:\n",
    "        print(f'Epoch {epoch+1}/{epochs}, MSE: {mse:.4f}')\n",
    "\n",
    "hidden_layer_input = np.dot(X, weights_input_hidden) + bias_hidden\n",
    "hidden_layer_output = sigmoid(hidden_layer_input)\n",
    "output_layer_input = np.dot(hidden_layer_output, weights_hidden_output) + bias_output\n",
    "predicted_output = output_layer_input\n",
    "print('Predicted outputs:')\n",
    "print(predicted_output)\n"
   ]
  },
  {
   "cell_type": "code",
   "execution_count": null,
   "id": "dc777466-82f2-4025-a740-3113ecbf0220",
   "metadata": {},
   "outputs": [],
   "source": []
  }
 ],
 "metadata": {
  "kernelspec": {
   "display_name": "Python 3 (ipykernel)",
   "language": "python",
   "name": "python3"
  },
  "language_info": {
   "codemirror_mode": {
    "name": "ipython",
    "version": 3
   },
   "file_extension": ".py",
   "mimetype": "text/x-python",
   "name": "python",
   "nbconvert_exporter": "python",
   "pygments_lexer": "ipython3",
   "version": "3.11.5"
  }
 },
 "nbformat": 4,
 "nbformat_minor": 5
}
