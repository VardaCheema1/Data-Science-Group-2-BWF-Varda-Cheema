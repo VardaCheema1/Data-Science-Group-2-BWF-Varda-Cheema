{
 "cells": [
  {
   "cell_type": "markdown",
   "id": "0fee9e0e-7a7d-4268-89a0-7b2b5f89f943",
   "metadata": {},
   "source": [
    "# Task 5: Intro to Loops, if-else statements and Functions\n",
    "\n",
    "### Loops"
   ]
  },
  {
   "cell_type": "code",
   "execution_count": 42,
   "id": "bfd316f7-b0b9-4ac3-9dd6-ff213e7869a1",
   "metadata": {},
   "outputs": [
    {
     "name": "stdin",
     "output_type": "stream",
     "text": [
      "Enter number of rows:  5\n"
     ]
    },
    {
     "name": "stdout",
     "output_type": "stream",
     "text": [
      "\n",
      "*\n",
      "**\n",
      "***\n",
      "****\n",
      "*****\n"
     ]
    }
   ],
   "source": [
    "n = int(input(\"Enter number of rows: \"))\n",
    "\n",
    "for i in range(n+1):\n",
    "    print(\"*\"*i)"
   ]
  },
  {
   "cell_type": "code",
   "execution_count": 32,
   "id": "dd1f8725-8d6c-437a-aaf3-f12b6eba112a",
   "metadata": {},
   "outputs": [
    {
     "name": "stdin",
     "output_type": "stream",
     "text": [
      "Enter number of rows:  6\n"
     ]
    },
    {
     "name": "stdout",
     "output_type": "stream",
     "text": [
      "      *\n",
      "     ***\n",
      "    *****\n",
      "   *******\n",
      "  *********\n",
      " ***********\n"
     ]
    }
   ],
   "source": [
    "n = int(input(\"Enter number of rows: \"))\n",
    "\n",
    "for i in range(n):\n",
    "    print(\" \"*(n-i-1),\"*\"*(2*i+1))"
   ]
  },
  {
   "cell_type": "code",
   "execution_count": 31,
   "id": "90a5c7d9-e899-4afc-8260-daafdd137a35",
   "metadata": {},
   "outputs": [
    {
     "name": "stdin",
     "output_type": "stream",
     "text": [
      "Enter number of rows:  4\n"
     ]
    },
    {
     "name": "stdout",
     "output_type": "stream",
     "text": [
      " *******\n",
      "  *****\n",
      "   ***\n",
      "    *\n"
     ]
    }
   ],
   "source": [
    "n = int(input(\"Enter number of rows: \"))\n",
    "\n",
    "for i in range(n):\n",
    "    print(\" \"*(i),\"*\"*(2*(n-i)-1))"
   ]
  },
  {
   "cell_type": "code",
   "execution_count": 61,
   "id": "8f3252c8-0980-4bcd-a3bb-9614e45d4ed3",
   "metadata": {},
   "outputs": [
    {
     "name": "stdin",
     "output_type": "stream",
     "text": [
      "Enter number of rows:  5\n"
     ]
    },
    {
     "name": "stdout",
     "output_type": "stream",
     "text": [
      "    A \n",
      "   A B \n",
      "  A B C \n",
      " A B C D \n",
      "A B C D E \n"
     ]
    }
   ],
   "source": [
    "n = int(input(\"Enter number of rows: \"))\n",
    "\n",
    "for i in range(n):\n",
    "    print(\" \"*(n-i-1), end = '')\n",
    "    for j in range(i+1):\n",
    "        print(chr(65+j), end= ' ')\n",
    "    print()"
   ]
  },
  {
   "cell_type": "code",
   "execution_count": 57,
   "id": "301c52c7-958f-4a87-965e-ff8a108280aa",
   "metadata": {},
   "outputs": [
    {
     "name": "stdin",
     "output_type": "stream",
     "text": [
      "Enter number of rows:  5\n"
     ]
    },
    {
     "name": "stdout",
     "output_type": "stream",
     "text": [
      "\n",
      "1 \n",
      "2 3 \n",
      "4 5 6 \n",
      "7 8 9 10 \n",
      "11 12 13 14 15 \n"
     ]
    }
   ],
   "source": [
    "n = int(input(\"Enter number of rows: \"))\n",
    "counter = 1\n",
    "\n",
    "for i in range(n+1):\n",
    "    for j in range(i):\n",
    "        print(counter, end =\" \")\n",
    "        counter+=1\n",
    "    print()"
   ]
  },
  {
   "cell_type": "markdown",
   "id": "c56f39dd-95f2-44e4-8d62-f9b4d85a4f3f",
   "metadata": {},
   "source": [
    "### If else statements and functions"
   ]
  },
  {
   "cell_type": "code",
   "execution_count": 1,
   "id": "a1d32db9-6486-4462-a100-3131eeed772a",
   "metadata": {},
   "outputs": [
    {
     "name": "stdin",
     "output_type": "stream",
     "text": [
      "For converting to Celsius, enter 1. For converting to Fahrenheit, enter 2:  1\n",
      "Enter temperature:  100\n"
     ]
    },
    {
     "name": "stdout",
     "output_type": "stream",
     "text": [
      "37.77777777777778  C\n"
     ]
    }
   ],
   "source": [
    "# converting termperature\n",
    "\n",
    "def conversion(degree, temp):\n",
    "    if degree == 1:\n",
    "        res = (temp - 32) * 5/9\n",
    "        print(res, \" C\")\n",
    "    elif degree == 2:\n",
    "        res = temp * 9/5 + 32\n",
    "        print(res, \" F\")\n",
    "    else:\n",
    "        print(\"Invalid Input\")\n",
    "\n",
    "degree = int(input(\"For converting to Celsius, enter 1. For converting to Fahrenheit, enter 2: \"))\n",
    "temp = int(input(\"Enter temperature: \"))\n",
    "\n",
    "conversion(degree, temp)\n"
   ]
  },
  {
   "cell_type": "code",
   "execution_count": 2,
   "id": "e0b17890-ec63-402e-bca7-51a0cfe2ff30",
   "metadata": {},
   "outputs": [
    {
     "name": "stdin",
     "output_type": "stream",
     "text": [
      "Enter marks:  67\n"
     ]
    },
    {
     "name": "stdout",
     "output_type": "stream",
     "text": [
      "Grade C\n"
     ]
    }
   ],
   "source": [
    "# deciding grades\n",
    "\n",
    "def grades(marks):\n",
    "    if marks < 50:\n",
    "        print(\"Grade F\")\n",
    "    elif marks >= 50 and marks < 60:\n",
    "        print(\"Grade D\")\n",
    "    elif marks >= 60 and marks < 70:\n",
    "        print(\"Grade C\")\n",
    "    elif marks >= 70 and marks < 80:\n",
    "        print(\"Grade B\")\n",
    "    elif marks >= 80 and marks < 90:\n",
    "        print(\"Grade A\")\n",
    "    else:\n",
    "        print(\"A+\")\n",
    "    \n",
    "\n",
    "marks = int(input(\"Enter marks: \"))\n",
    "grades(marks)\n"
   ]
  },
  {
   "cell_type": "code",
   "execution_count": null,
   "id": "e8307c5c-2d1c-4ef0-b055-a5afb95c04c0",
   "metadata": {},
   "outputs": [],
   "source": []
  }
 ],
 "metadata": {
  "kernelspec": {
   "display_name": "Python 3 (ipykernel)",
   "language": "python",
   "name": "python3"
  },
  "language_info": {
   "codemirror_mode": {
    "name": "ipython",
    "version": 3
   },
   "file_extension": ".py",
   "mimetype": "text/x-python",
   "name": "python",
   "nbconvert_exporter": "python",
   "pygments_lexer": "ipython3",
   "version": "3.11.5"
  }
 },
 "nbformat": 4,
 "nbformat_minor": 5
}
