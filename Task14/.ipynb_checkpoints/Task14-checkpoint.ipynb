{
 "cells": [
  {
   "cell_type": "markdown",
   "id": "95123ec1-2101-4907-be73-ba0a684128e0",
   "metadata": {},
   "source": [
    "# Task 14"
   ]
  },
  {
   "cell_type": "code",
   "execution_count": null,
   "id": "1602b33b-ecb5-4ca1-ad1a-0c973925c475",
   "metadata": {},
   "outputs": [],
   "source": [
    "import pandas as pd\n",
    "\n",
    "df = pd.read_csv('titanic.csv')"
   ]
  },
  {
   "cell_type": "code",
   "execution_count": null,
   "id": "139f479e-a88b-412d-b1d5-322ed4a01f58",
   "metadata": {},
   "outputs": [],
   "source": [
    "missing_values = df.isnull().sum()\n",
    "print(\"Missing values in each column:\\n\", missing_values)"
   ]
  },
  {
   "cell_type": "code",
   "execution_count": null,
   "id": "cb9cbe88-913d-43ca-a9c0-2fa245b1eafb",
   "metadata": {},
   "outputs": [],
   "source": [
    "df_dropna_rows = df.dropna()\n",
    "print(\"\\nDataFrame after dropping rows with missing values:\\n\", df_dropna_rows )"
   ]
  },
  {
   "cell_type": "code",
   "execution_count": null,
   "id": "1fa4dd05-92d2-4e39-95ac-c42e8e6672da",
   "metadata": {},
   "outputs": [],
   "source": [
    "df_dropna_columns = df.dropna(axis=1)\n",
    "print(\"\\nDataFrame after dropping columns with any missing values:\\n\", df_dropna_columns)"
   ]
  },
  {
   "cell_type": "code",
   "execution_count": null,
   "id": "28cb00f8-fe71-47d8-8860-f83b30157488",
   "metadata": {},
   "outputs": [],
   "source": [
    "df_filled_value = df.fillna(0)\n",
    "print(\"\\nDataFrame after filling missing values with 0:\\n\", df_filled_value)\n",
    "df_backward = df.fillna(method='bfill')\n",
    "print(\"\\nDataFrame after backward fill:\\n\", df_backward)\n"
   ]
  },
  {
   "cell_type": "code",
   "execution_count": null,
   "id": "8a31de6a-65ee-4d5e-9912-c29545be37cb",
   "metadata": {},
   "outputs": [],
   "source": [
    "df_interpolated = df.interpolate()\n",
    "print(\"\\nDataFrame after interpolation:\\n\", df_interpolated)\n"
   ]
  },
  {
   "cell_type": "code",
   "execution_count": null,
   "id": "9ae60ecf-83fd-47f4-971e-1745800a3b50",
   "metadata": {},
   "outputs": [],
   "source": [
    "df['Fare'] = df['Fare'].astype(float)\n",
    "print(\"\\nFare column datatype: \", df['Fare'].dtypes)\n"
   ]
  },
  {
   "cell_type": "code",
   "execution_count": null,
   "id": "c431f745-8a29-442d-9bdf-aadc92a74eb2",
   "metadata": {},
   "outputs": [],
   "source": [
    "df['Parch'] = df['Parch'].apply(lambda x: x * 2)\n",
    "print(\"\\nDataFrame with transformed Parch column:\\n\", df)\n"
   ]
  },
  {
   "cell_type": "code",
   "execution_count": null,
   "id": "2ff8c0ba-4b52-4201-978c-a44ba2db1d2b",
   "metadata": {},
   "outputs": [],
   "source": [
    "df['Fare'] = (df['Fare'] - df['Fare'].min()) / (df['Fare'].max() - df['Fare'].min())\n",
    "print(\"\\nDataFrame with normalized colun Fare:\\n\", df)\n"
   ]
  },
  {
   "cell_type": "code",
   "execution_count": null,
   "id": "fa2e9cdd-f4e3-4426-804b-ac3199ba84af",
   "metadata": {},
   "outputs": [],
   "source": [
    "df['Fare'] = (df['Fare'] - df['Fare'].mean()) / df['Fare'].std()\n",
    "print(\"\\nDataFrame with standardized column Fare:\\n\", df)\n"
   ]
  },
  {
   "cell_type": "code",
   "execution_count": null,
   "id": "bb67a8ca-7e07-46e0-81ad-e35911abd3ca",
   "metadata": {},
   "outputs": [],
   "source": [
    "duplicated_rows = df.duplicated()\n",
    "print(\"\\nDuplicate rows in the DataFrame:\\n\", duplicated_rows)\n"
   ]
  },
  {
   "cell_type": "code",
   "execution_count": null,
   "id": "5c58b4c1-bff8-4371-9155-5d6bbe564294",
   "metadata": {},
   "outputs": [],
   "source": [
    "df_no_duplicates = df.drop_duplicates()\n",
    "print(\"\\nDataFrame after dropping duplicate rows:\\n\", df_no_duplicates)\n"
   ]
  },
  {
   "cell_type": "code",
   "execution_count": null,
   "id": "afa90493-198a-4ebe-bb7b-c9affe2e09ff",
   "metadata": {},
   "outputs": [],
   "source": [
    "df_no_duplicates_columns = df.drop_duplicates(subset=['Fare', 'Parch'])\n",
    "print(\"\\nDataFrame after dropping duplicates:\\n\", df_no_duplicates_columns)\n"
   ]
  },
  {
   "cell_type": "code",
   "execution_count": null,
   "id": "bcc86812-c7ee-4ae4-9970-46fa568d0f81",
   "metadata": {},
   "outputs": [],
   "source": [
    "df['Ticket'] = df['Ticket'].str.lower()\n",
    "print(\"\\nDataFrame with Ticket column in lowercase:\\n\", df)\n"
   ]
  },
  {
   "cell_type": "code",
   "execution_count": null,
   "id": "95d3e94a-c033-40e4-b75b-654e5c458d09",
   "metadata": {},
   "outputs": [],
   "source": [
    "df['Ticket'] = df['Ticket'].str.strip()\n",
    "print(\"\\nDataFrame with spaces removed in Ticket column':\\n\", df)\n"
   ]
  },
  {
   "cell_type": "code",
   "execution_count": null,
   "id": "173486e2-0859-4e1f-a18a-82b0a58b8f1d",
   "metadata": {},
   "outputs": [],
   "source": [
    "df['Ticket'] = df['Ticket'].str.replace('pc', 'Ticket No. ')\n",
    "print(\"\\nDataFrame with replaced substring:\\n\", df)\n"
   ]
  },
  {
   "cell_type": "code",
   "execution_count": null,
   "id": "f24d82d3-a329-4beb-b7ed-9a726ec2697b",
   "metadata": {},
   "outputs": [],
   "source": [
    "df['Cabin'] = df['Cabin'].str[0:3]\n",
    "print(\"\\nDataFrame with extracted substring in Cabin column':\\n\", df['Cabin'])\n"
   ]
  },
  {
   "cell_type": "code",
   "execution_count": null,
   "id": "7e6bbee1-6096-42f2-8351-08a6d092b695",
   "metadata": {},
   "outputs": [],
   "source": [
    "df = pd.read_csv('Covid-19_Daily_Vaccinations.csv')\n",
    "df['date'] = pd.to_datetime(df['date'])\n",
    "print(\"\\nDataFrame with 'date_column' converted to datetime:\\n\", df)\n"
   ]
  },
  {
   "cell_type": "code",
   "execution_count": null,
   "id": "dff93dba-8779-44d3-a5d7-f7f81c5c9d88",
   "metadata": {},
   "outputs": [],
   "source": [
    "df['year'] = df['date'].dt.year\n",
    "df['month'] = df['date'].dt.month\n",
    "df['day'] = df['date'].dt.day\n",
    "print(\"\\nDataFrame with year, month, and day extracted:\\n\", df)\n"
   ]
  },
  {
   "cell_type": "code",
   "execution_count": null,
   "id": "923539c2-65fa-4a40-bc57-48acc97357cd",
   "metadata": {},
   "outputs": [],
   "source": [
    "start_date = '2021-01-16'\n",
    "end_date = '2021-02-01'\n",
    "date_filtered_df = df[(df['date'] >= start_date) & (df['date'] <= end_date)]\n",
    "print(\"\\nDataFrame filtered by date range:\\n\", date_filtered_df)\n"
   ]
  },
  {
   "cell_type": "code",
   "execution_count": null,
   "id": "4df71489-5a9d-4407-860d-251aefbaf0f7",
   "metadata": {},
   "outputs": [],
   "source": [
    "df = pd.read_csv('Bytewise_random/titanic.csv')\n",
    "df_one_hot = pd.get_dummies(df, columns=['Sex'])\n",
    "print(\"\\nDataFrame with one-hot encoding:\\n\", df_one_hot)\n"
   ]
  },
  {
   "cell_type": "code",
   "execution_count": null,
   "id": "6fcf719a-decf-47f2-9473-f74594fe8473",
   "metadata": {},
   "outputs": [],
   "source": [
    "df['Gender'] = df['Sex'].astype('category').cat.codes\n",
    "print(\"\\nDataFrame with label encoding:\\n\", df)\n"
   ]
  }
 ],
 "metadata": {
  "kernelspec": {
   "display_name": "Python 3 (ipykernel)",
   "language": "python",
   "name": "python3"
  },
  "language_info": {
   "codemirror_mode": {
    "name": "ipython",
    "version": 3
   },
   "file_extension": ".py",
   "mimetype": "text/x-python",
   "name": "python",
   "nbconvert_exporter": "python",
   "pygments_lexer": "ipython3",
   "version": "3.11.5"
  }
 },
 "nbformat": 4,
 "nbformat_minor": 5
}
