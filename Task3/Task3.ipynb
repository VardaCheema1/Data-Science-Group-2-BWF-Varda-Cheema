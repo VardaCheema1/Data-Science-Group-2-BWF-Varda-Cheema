{
 "cells": [
  {
   "cell_type": "markdown",
   "id": "6a00a065-d222-413e-8e61-c571856680ca",
   "metadata": {},
   "source": [
    "# Heading 1\n",
    "## Heading 2\n",
    "### Heading 3\n",
    "\n",
    "**Bold Text**\n",
    "\n",
    "*Italic Text*\n",
    "\n",
    "- Point 1\n",
    "- Point 2"
   ]
  },
  {
   "cell_type": "code",
   "execution_count": 1,
   "id": "e3eb0f94-0613-4280-8e7b-424ca86b0643",
   "metadata": {},
   "outputs": [
    {
     "name": "stdout",
     "output_type": "stream",
     "text": [
      "Hello. This is my first time using jupyter notebook\n"
     ]
    }
   ],
   "source": [
    "print(\"Hello. This is my first time using jupyter notebook\")"
   ]
  },
  {
   "cell_type": "markdown",
   "id": "4e0695ce-3fba-47dc-99aa-07251925410f",
   "metadata": {},
   "source": []
  }
 ],
 "metadata": {
  "kernelspec": {
   "display_name": "Python 3 (ipykernel)",
   "language": "python",
   "name": "python3"
  },
  "language_info": {
   "codemirror_mode": {
    "name": "ipython",
    "version": 3
   },
   "file_extension": ".py",
   "mimetype": "text/x-python",
   "name": "python",
   "nbconvert_exporter": "python",
   "pygments_lexer": "ipython3",
   "version": "3.11.5"
  }
 },
 "nbformat": 4,
 "nbformat_minor": 5
}
