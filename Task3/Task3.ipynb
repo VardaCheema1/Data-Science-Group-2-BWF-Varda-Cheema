{
 "cells": [
  {
   "cell_type": "markdown",
   "id": "6a00a065-d222-413e-8e61-c571856680ca",
   "metadata": {},
   "source": [
    "# Task 3: Introduction to Jupyter Notebook\n",
    "\n",
    "## Types of Cells in Jupyter Notebook\n",
    "\n",
    "### 1. Markdown Cell\n",
    "This is a **Markdown cell** which allows the user to write text with various formatting options. \n",
    "\n",
    "#### Headings\n",
    "You can create headings of various levels:\n",
    "- # Heading 1\n",
    "- ## Heading 2\n",
    "- ### Heading 3\n",
    "\n",
    "\n",
    "#### Lists\n",
    "There are also bulleted lists:\n",
    "- Item 1\n",
    "- Item 2\n",
    "  - Subitem 2.1\n",
    "  - Subitem 2.2\n",
    "\n",
    "And numbered lists:\n",
    "1. First item\n",
    "2. Second item\n",
    "   1. Subitem 2.1\n",
    "   2. Subitem 2.2\n",
    "\n"
   ]
  },
  {
   "cell_type": "markdown",
   "id": "c543ed6e-9965-4fbc-b324-c31738b9e3de",
   "metadata": {},
   "source": [
    "### 2. Code Cell\n",
    "Below is a Code cell which allows users to write and execute code:"
   ]
  },
  {
   "cell_type": "code",
   "execution_count": 1,
   "id": "e3eb0f94-0613-4280-8e7b-424ca86b0643",
   "metadata": {},
   "outputs": [
    {
     "name": "stdout",
     "output_type": "stream",
     "text": [
      "Hello. This is my first time using jupyter notebook\n",
      "0\n",
      "1\n",
      "2\n",
      "3\n",
      "4\n"
     ]
    }
   ],
   "source": [
    "print(\"Hello. This is my first time using jupyter notebook\")\n",
    "\n",
    "for i in range(5):\n",
    "    print(i)"
   ]
  },
  {
   "cell_type": "markdown",
   "id": "73732815-5495-48df-9462-f87814e95f3d",
   "metadata": {},
   "source": [
    "### 3. Raw Cell\n",
    "Raw cells are used for text that is not meant to be formatted or executed."
   ]
  },
  {
   "cell_type": "raw",
   "id": "fbc8a47d-8733-43d8-8ae0-eec244d1d99c",
   "metadata": {},
   "source": [
    "This is an example of a raw cell. Raw cells don't have any formatting"
   ]
  }
 ],
 "metadata": {
  "kernelspec": {
   "display_name": "Python 3 (ipykernel)",
   "language": "python",
   "name": "python3"
  },
  "language_info": {
   "codemirror_mode": {
    "name": "ipython",
    "version": 3
   },
   "file_extension": ".py",
   "mimetype": "text/x-python",
   "name": "python",
   "nbconvert_exporter": "python",
   "pygments_lexer": "ipython3",
   "version": "3.11.5"
  }
 },
 "nbformat": 4,
 "nbformat_minor": 5
}
